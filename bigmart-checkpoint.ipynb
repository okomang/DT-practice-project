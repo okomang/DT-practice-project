{
 "cells": [
  {
   "cell_type": "code",
   "execution_count": 1,
   "metadata": {},
   "outputs": [],
   "source": [
    "import pandas as pd\n",
    "import numpy as np"
   ]
  },
  {
   "cell_type": "code",
   "execution_count": 2,
   "metadata": {},
   "outputs": [],
   "source": [
    "train=pd.read_csv('bigmart_train.csv')\n",
    "test=pd.read_csv('bigmart_test.csv')"
   ]
  },
  {
   "cell_type": "code",
   "execution_count": 3,
   "metadata": {},
   "outputs": [
    {
     "data": {
      "text/html": [
       "<div>\n",
       "<style scoped>\n",
       "    .dataframe tbody tr th:only-of-type {\n",
       "        vertical-align: middle;\n",
       "    }\n",
       "\n",
       "    .dataframe tbody tr th {\n",
       "        vertical-align: top;\n",
       "    }\n",
       "\n",
       "    .dataframe thead th {\n",
       "        text-align: right;\n",
       "    }\n",
       "</style>\n",
       "<table border=\"1\" class=\"dataframe\">\n",
       "  <thead>\n",
       "    <tr style=\"text-align: right;\">\n",
       "      <th></th>\n",
       "      <th>Item_Identifier</th>\n",
       "      <th>Item_Weight</th>\n",
       "      <th>Item_Fat_Content</th>\n",
       "      <th>Item_Visibility</th>\n",
       "      <th>Item_Type</th>\n",
       "      <th>Item_MRP</th>\n",
       "      <th>Outlet_Identifier</th>\n",
       "      <th>Outlet_Establishment_Year</th>\n",
       "      <th>Outlet_Size</th>\n",
       "      <th>Outlet_Location_Type</th>\n",
       "      <th>Outlet_Type</th>\n",
       "      <th>Item_Outlet_Sales</th>\n",
       "    </tr>\n",
       "  </thead>\n",
       "  <tbody>\n",
       "    <tr>\n",
       "      <th>0</th>\n",
       "      <td>FDA15</td>\n",
       "      <td>9.300</td>\n",
       "      <td>Low Fat</td>\n",
       "      <td>0.016047</td>\n",
       "      <td>Dairy</td>\n",
       "      <td>249.8092</td>\n",
       "      <td>OUT049</td>\n",
       "      <td>1999</td>\n",
       "      <td>Medium</td>\n",
       "      <td>Tier 1</td>\n",
       "      <td>Supermarket Type1</td>\n",
       "      <td>3735.1380</td>\n",
       "    </tr>\n",
       "    <tr>\n",
       "      <th>1</th>\n",
       "      <td>DRC01</td>\n",
       "      <td>5.920</td>\n",
       "      <td>Regular</td>\n",
       "      <td>0.019278</td>\n",
       "      <td>Soft Drinks</td>\n",
       "      <td>48.2692</td>\n",
       "      <td>OUT018</td>\n",
       "      <td>2009</td>\n",
       "      <td>Medium</td>\n",
       "      <td>Tier 3</td>\n",
       "      <td>Supermarket Type2</td>\n",
       "      <td>443.4228</td>\n",
       "    </tr>\n",
       "    <tr>\n",
       "      <th>2</th>\n",
       "      <td>FDN15</td>\n",
       "      <td>17.500</td>\n",
       "      <td>Low Fat</td>\n",
       "      <td>0.016760</td>\n",
       "      <td>Meat</td>\n",
       "      <td>141.6180</td>\n",
       "      <td>OUT049</td>\n",
       "      <td>1999</td>\n",
       "      <td>Medium</td>\n",
       "      <td>Tier 1</td>\n",
       "      <td>Supermarket Type1</td>\n",
       "      <td>2097.2700</td>\n",
       "    </tr>\n",
       "    <tr>\n",
       "      <th>3</th>\n",
       "      <td>FDX07</td>\n",
       "      <td>19.200</td>\n",
       "      <td>Regular</td>\n",
       "      <td>0.000000</td>\n",
       "      <td>Fruits and Vegetables</td>\n",
       "      <td>182.0950</td>\n",
       "      <td>OUT010</td>\n",
       "      <td>1998</td>\n",
       "      <td>NaN</td>\n",
       "      <td>Tier 3</td>\n",
       "      <td>Grocery Store</td>\n",
       "      <td>732.3800</td>\n",
       "    </tr>\n",
       "    <tr>\n",
       "      <th>4</th>\n",
       "      <td>NCD19</td>\n",
       "      <td>8.930</td>\n",
       "      <td>Low Fat</td>\n",
       "      <td>0.000000</td>\n",
       "      <td>Household</td>\n",
       "      <td>53.8614</td>\n",
       "      <td>OUT013</td>\n",
       "      <td>1987</td>\n",
       "      <td>High</td>\n",
       "      <td>Tier 3</td>\n",
       "      <td>Supermarket Type1</td>\n",
       "      <td>994.7052</td>\n",
       "    </tr>\n",
       "    <tr>\n",
       "      <th>...</th>\n",
       "      <td>...</td>\n",
       "      <td>...</td>\n",
       "      <td>...</td>\n",
       "      <td>...</td>\n",
       "      <td>...</td>\n",
       "      <td>...</td>\n",
       "      <td>...</td>\n",
       "      <td>...</td>\n",
       "      <td>...</td>\n",
       "      <td>...</td>\n",
       "      <td>...</td>\n",
       "      <td>...</td>\n",
       "    </tr>\n",
       "    <tr>\n",
       "      <th>8518</th>\n",
       "      <td>FDF22</td>\n",
       "      <td>6.865</td>\n",
       "      <td>Low Fat</td>\n",
       "      <td>0.056783</td>\n",
       "      <td>Snack Foods</td>\n",
       "      <td>214.5218</td>\n",
       "      <td>OUT013</td>\n",
       "      <td>1987</td>\n",
       "      <td>High</td>\n",
       "      <td>Tier 3</td>\n",
       "      <td>Supermarket Type1</td>\n",
       "      <td>2778.3834</td>\n",
       "    </tr>\n",
       "    <tr>\n",
       "      <th>8519</th>\n",
       "      <td>FDS36</td>\n",
       "      <td>8.380</td>\n",
       "      <td>Regular</td>\n",
       "      <td>0.046982</td>\n",
       "      <td>Baking Goods</td>\n",
       "      <td>108.1570</td>\n",
       "      <td>OUT045</td>\n",
       "      <td>2002</td>\n",
       "      <td>NaN</td>\n",
       "      <td>Tier 2</td>\n",
       "      <td>Supermarket Type1</td>\n",
       "      <td>549.2850</td>\n",
       "    </tr>\n",
       "    <tr>\n",
       "      <th>8520</th>\n",
       "      <td>NCJ29</td>\n",
       "      <td>10.600</td>\n",
       "      <td>Low Fat</td>\n",
       "      <td>0.035186</td>\n",
       "      <td>Health and Hygiene</td>\n",
       "      <td>85.1224</td>\n",
       "      <td>OUT035</td>\n",
       "      <td>2004</td>\n",
       "      <td>Small</td>\n",
       "      <td>Tier 2</td>\n",
       "      <td>Supermarket Type1</td>\n",
       "      <td>1193.1136</td>\n",
       "    </tr>\n",
       "    <tr>\n",
       "      <th>8521</th>\n",
       "      <td>FDN46</td>\n",
       "      <td>7.210</td>\n",
       "      <td>Regular</td>\n",
       "      <td>0.145221</td>\n",
       "      <td>Snack Foods</td>\n",
       "      <td>103.1332</td>\n",
       "      <td>OUT018</td>\n",
       "      <td>2009</td>\n",
       "      <td>Medium</td>\n",
       "      <td>Tier 3</td>\n",
       "      <td>Supermarket Type2</td>\n",
       "      <td>1845.5976</td>\n",
       "    </tr>\n",
       "    <tr>\n",
       "      <th>8522</th>\n",
       "      <td>DRG01</td>\n",
       "      <td>14.800</td>\n",
       "      <td>Low Fat</td>\n",
       "      <td>0.044878</td>\n",
       "      <td>Soft Drinks</td>\n",
       "      <td>75.4670</td>\n",
       "      <td>OUT046</td>\n",
       "      <td>1997</td>\n",
       "      <td>Small</td>\n",
       "      <td>Tier 1</td>\n",
       "      <td>Supermarket Type1</td>\n",
       "      <td>765.6700</td>\n",
       "    </tr>\n",
       "  </tbody>\n",
       "</table>\n",
       "<p>8523 rows × 12 columns</p>\n",
       "</div>"
      ],
      "text/plain": [
       "     Item_Identifier  Item_Weight Item_Fat_Content  Item_Visibility  \\\n",
       "0              FDA15        9.300          Low Fat         0.016047   \n",
       "1              DRC01        5.920          Regular         0.019278   \n",
       "2              FDN15       17.500          Low Fat         0.016760   \n",
       "3              FDX07       19.200          Regular         0.000000   \n",
       "4              NCD19        8.930          Low Fat         0.000000   \n",
       "...              ...          ...              ...              ...   \n",
       "8518           FDF22        6.865          Low Fat         0.056783   \n",
       "8519           FDS36        8.380          Regular         0.046982   \n",
       "8520           NCJ29       10.600          Low Fat         0.035186   \n",
       "8521           FDN46        7.210          Regular         0.145221   \n",
       "8522           DRG01       14.800          Low Fat         0.044878   \n",
       "\n",
       "                  Item_Type  Item_MRP Outlet_Identifier  \\\n",
       "0                     Dairy  249.8092            OUT049   \n",
       "1               Soft Drinks   48.2692            OUT018   \n",
       "2                      Meat  141.6180            OUT049   \n",
       "3     Fruits and Vegetables  182.0950            OUT010   \n",
       "4                 Household   53.8614            OUT013   \n",
       "...                     ...       ...               ...   \n",
       "8518            Snack Foods  214.5218            OUT013   \n",
       "8519           Baking Goods  108.1570            OUT045   \n",
       "8520     Health and Hygiene   85.1224            OUT035   \n",
       "8521            Snack Foods  103.1332            OUT018   \n",
       "8522            Soft Drinks   75.4670            OUT046   \n",
       "\n",
       "      Outlet_Establishment_Year Outlet_Size Outlet_Location_Type  \\\n",
       "0                          1999      Medium               Tier 1   \n",
       "1                          2009      Medium               Tier 3   \n",
       "2                          1999      Medium               Tier 1   \n",
       "3                          1998         NaN               Tier 3   \n",
       "4                          1987        High               Tier 3   \n",
       "...                         ...         ...                  ...   \n",
       "8518                       1987        High               Tier 3   \n",
       "8519                       2002         NaN               Tier 2   \n",
       "8520                       2004       Small               Tier 2   \n",
       "8521                       2009      Medium               Tier 3   \n",
       "8522                       1997       Small               Tier 1   \n",
       "\n",
       "            Outlet_Type  Item_Outlet_Sales  \n",
       "0     Supermarket Type1          3735.1380  \n",
       "1     Supermarket Type2           443.4228  \n",
       "2     Supermarket Type1          2097.2700  \n",
       "3         Grocery Store           732.3800  \n",
       "4     Supermarket Type1           994.7052  \n",
       "...                 ...                ...  \n",
       "8518  Supermarket Type1          2778.3834  \n",
       "8519  Supermarket Type1           549.2850  \n",
       "8520  Supermarket Type1          1193.1136  \n",
       "8521  Supermarket Type2          1845.5976  \n",
       "8522  Supermarket Type1           765.6700  \n",
       "\n",
       "[8523 rows x 12 columns]"
      ]
     },
     "execution_count": 3,
     "metadata": {},
     "output_type": "execute_result"
    }
   ],
   "source": [
    "train"
   ]
  },
  {
   "cell_type": "code",
   "execution_count": 4,
   "metadata": {},
   "outputs": [
    {
     "data": {
      "text/html": [
       "<div>\n",
       "<style scoped>\n",
       "    .dataframe tbody tr th:only-of-type {\n",
       "        vertical-align: middle;\n",
       "    }\n",
       "\n",
       "    .dataframe tbody tr th {\n",
       "        vertical-align: top;\n",
       "    }\n",
       "\n",
       "    .dataframe thead th {\n",
       "        text-align: right;\n",
       "    }\n",
       "</style>\n",
       "<table border=\"1\" class=\"dataframe\">\n",
       "  <thead>\n",
       "    <tr style=\"text-align: right;\">\n",
       "      <th></th>\n",
       "      <th>Item_Identifier</th>\n",
       "      <th>Item_Weight</th>\n",
       "      <th>Item_Fat_Content</th>\n",
       "      <th>Item_Visibility</th>\n",
       "      <th>Item_Type</th>\n",
       "      <th>Item_MRP</th>\n",
       "      <th>Outlet_Identifier</th>\n",
       "      <th>Outlet_Establishment_Year</th>\n",
       "      <th>Outlet_Size</th>\n",
       "      <th>Outlet_Location_Type</th>\n",
       "      <th>Outlet_Type</th>\n",
       "    </tr>\n",
       "  </thead>\n",
       "  <tbody>\n",
       "    <tr>\n",
       "      <th>0</th>\n",
       "      <td>FDW58</td>\n",
       "      <td>20.750</td>\n",
       "      <td>Low Fat</td>\n",
       "      <td>0.007565</td>\n",
       "      <td>Snack Foods</td>\n",
       "      <td>107.8622</td>\n",
       "      <td>OUT049</td>\n",
       "      <td>1999</td>\n",
       "      <td>Medium</td>\n",
       "      <td>Tier 1</td>\n",
       "      <td>Supermarket Type1</td>\n",
       "    </tr>\n",
       "    <tr>\n",
       "      <th>1</th>\n",
       "      <td>FDW14</td>\n",
       "      <td>8.300</td>\n",
       "      <td>reg</td>\n",
       "      <td>0.038428</td>\n",
       "      <td>Dairy</td>\n",
       "      <td>87.3198</td>\n",
       "      <td>OUT017</td>\n",
       "      <td>2007</td>\n",
       "      <td>NaN</td>\n",
       "      <td>Tier 2</td>\n",
       "      <td>Supermarket Type1</td>\n",
       "    </tr>\n",
       "    <tr>\n",
       "      <th>2</th>\n",
       "      <td>NCN55</td>\n",
       "      <td>14.600</td>\n",
       "      <td>Low Fat</td>\n",
       "      <td>0.099575</td>\n",
       "      <td>Others</td>\n",
       "      <td>241.7538</td>\n",
       "      <td>OUT010</td>\n",
       "      <td>1998</td>\n",
       "      <td>NaN</td>\n",
       "      <td>Tier 3</td>\n",
       "      <td>Grocery Store</td>\n",
       "    </tr>\n",
       "    <tr>\n",
       "      <th>3</th>\n",
       "      <td>FDQ58</td>\n",
       "      <td>7.315</td>\n",
       "      <td>Low Fat</td>\n",
       "      <td>0.015388</td>\n",
       "      <td>Snack Foods</td>\n",
       "      <td>155.0340</td>\n",
       "      <td>OUT017</td>\n",
       "      <td>2007</td>\n",
       "      <td>NaN</td>\n",
       "      <td>Tier 2</td>\n",
       "      <td>Supermarket Type1</td>\n",
       "    </tr>\n",
       "    <tr>\n",
       "      <th>4</th>\n",
       "      <td>FDY38</td>\n",
       "      <td>NaN</td>\n",
       "      <td>Regular</td>\n",
       "      <td>0.118599</td>\n",
       "      <td>Dairy</td>\n",
       "      <td>234.2300</td>\n",
       "      <td>OUT027</td>\n",
       "      <td>1985</td>\n",
       "      <td>Medium</td>\n",
       "      <td>Tier 3</td>\n",
       "      <td>Supermarket Type3</td>\n",
       "    </tr>\n",
       "    <tr>\n",
       "      <th>...</th>\n",
       "      <td>...</td>\n",
       "      <td>...</td>\n",
       "      <td>...</td>\n",
       "      <td>...</td>\n",
       "      <td>...</td>\n",
       "      <td>...</td>\n",
       "      <td>...</td>\n",
       "      <td>...</td>\n",
       "      <td>...</td>\n",
       "      <td>...</td>\n",
       "      <td>...</td>\n",
       "    </tr>\n",
       "    <tr>\n",
       "      <th>5676</th>\n",
       "      <td>FDB58</td>\n",
       "      <td>10.500</td>\n",
       "      <td>Regular</td>\n",
       "      <td>0.013496</td>\n",
       "      <td>Snack Foods</td>\n",
       "      <td>141.3154</td>\n",
       "      <td>OUT046</td>\n",
       "      <td>1997</td>\n",
       "      <td>Small</td>\n",
       "      <td>Tier 1</td>\n",
       "      <td>Supermarket Type1</td>\n",
       "    </tr>\n",
       "    <tr>\n",
       "      <th>5677</th>\n",
       "      <td>FDD47</td>\n",
       "      <td>7.600</td>\n",
       "      <td>Regular</td>\n",
       "      <td>0.142991</td>\n",
       "      <td>Starchy Foods</td>\n",
       "      <td>169.1448</td>\n",
       "      <td>OUT018</td>\n",
       "      <td>2009</td>\n",
       "      <td>Medium</td>\n",
       "      <td>Tier 3</td>\n",
       "      <td>Supermarket Type2</td>\n",
       "    </tr>\n",
       "    <tr>\n",
       "      <th>5678</th>\n",
       "      <td>NCO17</td>\n",
       "      <td>10.000</td>\n",
       "      <td>Low Fat</td>\n",
       "      <td>0.073529</td>\n",
       "      <td>Health and Hygiene</td>\n",
       "      <td>118.7440</td>\n",
       "      <td>OUT045</td>\n",
       "      <td>2002</td>\n",
       "      <td>NaN</td>\n",
       "      <td>Tier 2</td>\n",
       "      <td>Supermarket Type1</td>\n",
       "    </tr>\n",
       "    <tr>\n",
       "      <th>5679</th>\n",
       "      <td>FDJ26</td>\n",
       "      <td>15.300</td>\n",
       "      <td>Regular</td>\n",
       "      <td>0.000000</td>\n",
       "      <td>Canned</td>\n",
       "      <td>214.6218</td>\n",
       "      <td>OUT017</td>\n",
       "      <td>2007</td>\n",
       "      <td>NaN</td>\n",
       "      <td>Tier 2</td>\n",
       "      <td>Supermarket Type1</td>\n",
       "    </tr>\n",
       "    <tr>\n",
       "      <th>5680</th>\n",
       "      <td>FDU37</td>\n",
       "      <td>9.500</td>\n",
       "      <td>Regular</td>\n",
       "      <td>0.104720</td>\n",
       "      <td>Canned</td>\n",
       "      <td>79.7960</td>\n",
       "      <td>OUT045</td>\n",
       "      <td>2002</td>\n",
       "      <td>NaN</td>\n",
       "      <td>Tier 2</td>\n",
       "      <td>Supermarket Type1</td>\n",
       "    </tr>\n",
       "  </tbody>\n",
       "</table>\n",
       "<p>5681 rows × 11 columns</p>\n",
       "</div>"
      ],
      "text/plain": [
       "     Item_Identifier  Item_Weight Item_Fat_Content  Item_Visibility  \\\n",
       "0              FDW58       20.750          Low Fat         0.007565   \n",
       "1              FDW14        8.300              reg         0.038428   \n",
       "2              NCN55       14.600          Low Fat         0.099575   \n",
       "3              FDQ58        7.315          Low Fat         0.015388   \n",
       "4              FDY38          NaN          Regular         0.118599   \n",
       "...              ...          ...              ...              ...   \n",
       "5676           FDB58       10.500          Regular         0.013496   \n",
       "5677           FDD47        7.600          Regular         0.142991   \n",
       "5678           NCO17       10.000          Low Fat         0.073529   \n",
       "5679           FDJ26       15.300          Regular         0.000000   \n",
       "5680           FDU37        9.500          Regular         0.104720   \n",
       "\n",
       "               Item_Type  Item_MRP Outlet_Identifier  \\\n",
       "0            Snack Foods  107.8622            OUT049   \n",
       "1                  Dairy   87.3198            OUT017   \n",
       "2                 Others  241.7538            OUT010   \n",
       "3            Snack Foods  155.0340            OUT017   \n",
       "4                  Dairy  234.2300            OUT027   \n",
       "...                  ...       ...               ...   \n",
       "5676         Snack Foods  141.3154            OUT046   \n",
       "5677       Starchy Foods  169.1448            OUT018   \n",
       "5678  Health and Hygiene  118.7440            OUT045   \n",
       "5679              Canned  214.6218            OUT017   \n",
       "5680              Canned   79.7960            OUT045   \n",
       "\n",
       "      Outlet_Establishment_Year Outlet_Size Outlet_Location_Type  \\\n",
       "0                          1999      Medium               Tier 1   \n",
       "1                          2007         NaN               Tier 2   \n",
       "2                          1998         NaN               Tier 3   \n",
       "3                          2007         NaN               Tier 2   \n",
       "4                          1985      Medium               Tier 3   \n",
       "...                         ...         ...                  ...   \n",
       "5676                       1997       Small               Tier 1   \n",
       "5677                       2009      Medium               Tier 3   \n",
       "5678                       2002         NaN               Tier 2   \n",
       "5679                       2007         NaN               Tier 2   \n",
       "5680                       2002         NaN               Tier 2   \n",
       "\n",
       "            Outlet_Type  \n",
       "0     Supermarket Type1  \n",
       "1     Supermarket Type1  \n",
       "2         Grocery Store  \n",
       "3     Supermarket Type1  \n",
       "4     Supermarket Type3  \n",
       "...                 ...  \n",
       "5676  Supermarket Type1  \n",
       "5677  Supermarket Type2  \n",
       "5678  Supermarket Type1  \n",
       "5679  Supermarket Type1  \n",
       "5680  Supermarket Type1  \n",
       "\n",
       "[5681 rows x 11 columns]"
      ]
     },
     "execution_count": 4,
     "metadata": {},
     "output_type": "execute_result"
    }
   ],
   "source": [
    "test"
   ]
  },
  {
   "cell_type": "code",
   "execution_count": 5,
   "metadata": {},
   "outputs": [],
   "source": [
    "#There are two different data sets given \n",
    "#One is training data set, while the other is testing data set.\n",
    "#we will proceed with both simultaneously"
   ]
  },
  {
   "cell_type": "code",
   "execution_count": 6,
   "metadata": {},
   "outputs": [
    {
     "name": "stdout",
     "output_type": "stream",
     "text": [
      "(8523, 12)\n",
      "(5681, 11)\n"
     ]
    }
   ],
   "source": [
    "print(train.shape)\n",
    "print(test.shape)"
   ]
  },
  {
   "cell_type": "code",
   "execution_count": 7,
   "metadata": {},
   "outputs": [
    {
     "name": "stdout",
     "output_type": "stream",
     "text": [
      "<class 'pandas.core.frame.DataFrame'>\n",
      "RangeIndex: 8523 entries, 0 to 8522\n",
      "Data columns (total 12 columns):\n",
      " #   Column                     Non-Null Count  Dtype  \n",
      "---  ------                     --------------  -----  \n",
      " 0   Item_Identifier            8523 non-null   object \n",
      " 1   Item_Weight                7060 non-null   float64\n",
      " 2   Item_Fat_Content           8523 non-null   object \n",
      " 3   Item_Visibility            8523 non-null   float64\n",
      " 4   Item_Type                  8523 non-null   object \n",
      " 5   Item_MRP                   8523 non-null   float64\n",
      " 6   Outlet_Identifier          8523 non-null   object \n",
      " 7   Outlet_Establishment_Year  8523 non-null   int64  \n",
      " 8   Outlet_Size                6113 non-null   object \n",
      " 9   Outlet_Location_Type       8523 non-null   object \n",
      " 10  Outlet_Type                8523 non-null   object \n",
      " 11  Item_Outlet_Sales          8523 non-null   float64\n",
      "dtypes: float64(4), int64(1), object(7)\n",
      "memory usage: 799.2+ KB\n"
     ]
    }
   ],
   "source": [
    "train.info()"
   ]
  },
  {
   "cell_type": "code",
   "execution_count": 8,
   "metadata": {},
   "outputs": [
    {
     "name": "stdout",
     "output_type": "stream",
     "text": [
      "<class 'pandas.core.frame.DataFrame'>\n",
      "RangeIndex: 5681 entries, 0 to 5680\n",
      "Data columns (total 11 columns):\n",
      " #   Column                     Non-Null Count  Dtype  \n",
      "---  ------                     --------------  -----  \n",
      " 0   Item_Identifier            5681 non-null   object \n",
      " 1   Item_Weight                4705 non-null   float64\n",
      " 2   Item_Fat_Content           5681 non-null   object \n",
      " 3   Item_Visibility            5681 non-null   float64\n",
      " 4   Item_Type                  5681 non-null   object \n",
      " 5   Item_MRP                   5681 non-null   float64\n",
      " 6   Outlet_Identifier          5681 non-null   object \n",
      " 7   Outlet_Establishment_Year  5681 non-null   int64  \n",
      " 8   Outlet_Size                4075 non-null   object \n",
      " 9   Outlet_Location_Type       5681 non-null   object \n",
      " 10  Outlet_Type                5681 non-null   object \n",
      "dtypes: float64(3), int64(1), object(7)\n",
      "memory usage: 488.3+ KB\n"
     ]
    }
   ],
   "source": [
    "test.info()"
   ]
  },
  {
   "cell_type": "code",
   "execution_count": 9,
   "metadata": {},
   "outputs": [],
   "source": [
    "#Both datasets are having object and float values which means we wil need encoding of data"
   ]
  },
  {
   "cell_type": "code",
   "execution_count": 10,
   "metadata": {},
   "outputs": [
    {
     "data": {
      "text/plain": [
       "Item_Identifier                 0\n",
       "Item_Weight                  1463\n",
       "Item_Fat_Content                0\n",
       "Item_Visibility                 0\n",
       "Item_Type                       0\n",
       "Item_MRP                        0\n",
       "Outlet_Identifier               0\n",
       "Outlet_Establishment_Year       0\n",
       "Outlet_Size                  2410\n",
       "Outlet_Location_Type            0\n",
       "Outlet_Type                     0\n",
       "Item_Outlet_Sales               0\n",
       "dtype: int64"
      ]
     },
     "execution_count": 10,
     "metadata": {},
     "output_type": "execute_result"
    }
   ],
   "source": [
    "train.isnull().sum()"
   ]
  },
  {
   "cell_type": "code",
   "execution_count": 11,
   "metadata": {},
   "outputs": [
    {
     "data": {
      "text/plain": [
       "Item_Identifier                 0\n",
       "Item_Weight                   976\n",
       "Item_Fat_Content                0\n",
       "Item_Visibility                 0\n",
       "Item_Type                       0\n",
       "Item_MRP                        0\n",
       "Outlet_Identifier               0\n",
       "Outlet_Establishment_Year       0\n",
       "Outlet_Size                  1606\n",
       "Outlet_Location_Type            0\n",
       "Outlet_Type                     0\n",
       "dtype: int64"
      ]
     },
     "execution_count": 11,
     "metadata": {},
     "output_type": "execute_result"
    }
   ],
   "source": [
    "test.isnull().sum()"
   ]
  },
  {
   "cell_type": "code",
   "execution_count": 12,
   "metadata": {},
   "outputs": [
    {
     "data": {
      "text/plain": [
       "0        9.300\n",
       "1        5.920\n",
       "2       17.500\n",
       "3       19.200\n",
       "4        8.930\n",
       "         ...  \n",
       "8518     6.865\n",
       "8519     8.380\n",
       "8520    10.600\n",
       "8521     7.210\n",
       "8522    14.800\n",
       "Name: Item_Weight, Length: 8523, dtype: float64"
      ]
     },
     "execution_count": 12,
     "metadata": {},
     "output_type": "execute_result"
    }
   ],
   "source": [
    "train['Item_Weight']"
   ]
  },
  {
   "cell_type": "code",
   "execution_count": 13,
   "metadata": {},
   "outputs": [
    {
     "data": {
      "text/plain": [
       "0       Medium\n",
       "1       Medium\n",
       "2       Medium\n",
       "3          NaN\n",
       "4         High\n",
       "         ...  \n",
       "8518      High\n",
       "8519       NaN\n",
       "8520     Small\n",
       "8521    Medium\n",
       "8522     Small\n",
       "Name: Outlet_Size, Length: 8523, dtype: object"
      ]
     },
     "execution_count": 13,
     "metadata": {},
     "output_type": "execute_result"
    }
   ],
   "source": [
    "train['Outlet_Size']"
   ]
  },
  {
   "cell_type": "code",
   "execution_count": 14,
   "metadata": {},
   "outputs": [],
   "source": [
    "#Removing Null Values"
   ]
  },
  {
   "cell_type": "code",
   "execution_count": 15,
   "metadata": {},
   "outputs": [],
   "source": [
    "train['Outlet_Size'].fillna(train['Outlet_Size'].mode()[0],inplace=True)\n",
    "train['Item_Weight'].fillna(train['Item_Weight'].mean(),inplace=True)"
   ]
  },
  {
   "cell_type": "code",
   "execution_count": 16,
   "metadata": {},
   "outputs": [
    {
     "data": {
      "text/plain": [
       "Item_Identifier              0\n",
       "Item_Weight                  0\n",
       "Item_Fat_Content             0\n",
       "Item_Visibility              0\n",
       "Item_Type                    0\n",
       "Item_MRP                     0\n",
       "Outlet_Identifier            0\n",
       "Outlet_Establishment_Year    0\n",
       "Outlet_Size                  0\n",
       "Outlet_Location_Type         0\n",
       "Outlet_Type                  0\n",
       "Item_Outlet_Sales            0\n",
       "dtype: int64"
      ]
     },
     "execution_count": 16,
     "metadata": {},
     "output_type": "execute_result"
    }
   ],
   "source": [
    "train.isnull().sum()"
   ]
  },
  {
   "cell_type": "code",
   "execution_count": 17,
   "metadata": {},
   "outputs": [],
   "source": [
    "test['Outlet_Size'].fillna(train['Outlet_Size'].mode()[0],inplace=True)\n",
    "test['Item_Weight'].fillna(train['Item_Weight'].mean(),inplace=True)"
   ]
  },
  {
   "cell_type": "code",
   "execution_count": 18,
   "metadata": {},
   "outputs": [
    {
     "data": {
      "text/plain": [
       "Item_Identifier              0\n",
       "Item_Weight                  0\n",
       "Item_Fat_Content             0\n",
       "Item_Visibility              0\n",
       "Item_Type                    0\n",
       "Item_MRP                     0\n",
       "Outlet_Identifier            0\n",
       "Outlet_Establishment_Year    0\n",
       "Outlet_Size                  0\n",
       "Outlet_Location_Type         0\n",
       "Outlet_Type                  0\n",
       "dtype: int64"
      ]
     },
     "execution_count": 18,
     "metadata": {},
     "output_type": "execute_result"
    }
   ],
   "source": [
    "test.isnull().sum()"
   ]
  },
  {
   "cell_type": "code",
   "execution_count": 19,
   "metadata": {},
   "outputs": [
    {
     "data": {
      "text/plain": [
       "0       Medium\n",
       "1       Medium\n",
       "2       Medium\n",
       "3       Medium\n",
       "4         High\n",
       "         ...  \n",
       "8518      High\n",
       "8519    Medium\n",
       "8520     Small\n",
       "8521    Medium\n",
       "8522     Small\n",
       "Name: Outlet_Size, Length: 8523, dtype: object"
      ]
     },
     "execution_count": 19,
     "metadata": {},
     "output_type": "execute_result"
    }
   ],
   "source": [
    "train['Outlet_Size']"
   ]
  },
  {
   "cell_type": "code",
   "execution_count": 20,
   "metadata": {},
   "outputs": [
    {
     "data": {
      "text/html": [
       "<div>\n",
       "<style scoped>\n",
       "    .dataframe tbody tr th:only-of-type {\n",
       "        vertical-align: middle;\n",
       "    }\n",
       "\n",
       "    .dataframe tbody tr th {\n",
       "        vertical-align: top;\n",
       "    }\n",
       "\n",
       "    .dataframe thead th {\n",
       "        text-align: right;\n",
       "    }\n",
       "</style>\n",
       "<table border=\"1\" class=\"dataframe\">\n",
       "  <thead>\n",
       "    <tr style=\"text-align: right;\">\n",
       "      <th></th>\n",
       "      <th>Item_Identifier</th>\n",
       "      <th>Item_Weight</th>\n",
       "      <th>Item_Fat_Content</th>\n",
       "      <th>Item_Visibility</th>\n",
       "      <th>Item_Type</th>\n",
       "      <th>Item_MRP</th>\n",
       "      <th>Outlet_Identifier</th>\n",
       "      <th>Outlet_Establishment_Year</th>\n",
       "      <th>Outlet_Size</th>\n",
       "      <th>Outlet_Location_Type</th>\n",
       "      <th>Outlet_Type</th>\n",
       "      <th>Item_Outlet_Sales</th>\n",
       "    </tr>\n",
       "  </thead>\n",
       "  <tbody>\n",
       "    <tr>\n",
       "      <th>0</th>\n",
       "      <td>FDA15</td>\n",
       "      <td>9.300</td>\n",
       "      <td>Low Fat</td>\n",
       "      <td>0.016047</td>\n",
       "      <td>Dairy</td>\n",
       "      <td>249.8092</td>\n",
       "      <td>OUT049</td>\n",
       "      <td>1999</td>\n",
       "      <td>Medium</td>\n",
       "      <td>Tier 1</td>\n",
       "      <td>Supermarket Type1</td>\n",
       "      <td>3735.1380</td>\n",
       "    </tr>\n",
       "    <tr>\n",
       "      <th>1</th>\n",
       "      <td>DRC01</td>\n",
       "      <td>5.920</td>\n",
       "      <td>Regular</td>\n",
       "      <td>0.019278</td>\n",
       "      <td>Soft Drinks</td>\n",
       "      <td>48.2692</td>\n",
       "      <td>OUT018</td>\n",
       "      <td>2009</td>\n",
       "      <td>Medium</td>\n",
       "      <td>Tier 3</td>\n",
       "      <td>Supermarket Type2</td>\n",
       "      <td>443.4228</td>\n",
       "    </tr>\n",
       "    <tr>\n",
       "      <th>2</th>\n",
       "      <td>FDN15</td>\n",
       "      <td>17.500</td>\n",
       "      <td>Low Fat</td>\n",
       "      <td>0.016760</td>\n",
       "      <td>Meat</td>\n",
       "      <td>141.6180</td>\n",
       "      <td>OUT049</td>\n",
       "      <td>1999</td>\n",
       "      <td>Medium</td>\n",
       "      <td>Tier 1</td>\n",
       "      <td>Supermarket Type1</td>\n",
       "      <td>2097.2700</td>\n",
       "    </tr>\n",
       "    <tr>\n",
       "      <th>3</th>\n",
       "      <td>FDX07</td>\n",
       "      <td>19.200</td>\n",
       "      <td>Regular</td>\n",
       "      <td>0.000000</td>\n",
       "      <td>Fruits and Vegetables</td>\n",
       "      <td>182.0950</td>\n",
       "      <td>OUT010</td>\n",
       "      <td>1998</td>\n",
       "      <td>Medium</td>\n",
       "      <td>Tier 3</td>\n",
       "      <td>Grocery Store</td>\n",
       "      <td>732.3800</td>\n",
       "    </tr>\n",
       "    <tr>\n",
       "      <th>4</th>\n",
       "      <td>NCD19</td>\n",
       "      <td>8.930</td>\n",
       "      <td>Low Fat</td>\n",
       "      <td>0.000000</td>\n",
       "      <td>Household</td>\n",
       "      <td>53.8614</td>\n",
       "      <td>OUT013</td>\n",
       "      <td>1987</td>\n",
       "      <td>High</td>\n",
       "      <td>Tier 3</td>\n",
       "      <td>Supermarket Type1</td>\n",
       "      <td>994.7052</td>\n",
       "    </tr>\n",
       "    <tr>\n",
       "      <th>...</th>\n",
       "      <td>...</td>\n",
       "      <td>...</td>\n",
       "      <td>...</td>\n",
       "      <td>...</td>\n",
       "      <td>...</td>\n",
       "      <td>...</td>\n",
       "      <td>...</td>\n",
       "      <td>...</td>\n",
       "      <td>...</td>\n",
       "      <td>...</td>\n",
       "      <td>...</td>\n",
       "      <td>...</td>\n",
       "    </tr>\n",
       "    <tr>\n",
       "      <th>8518</th>\n",
       "      <td>FDF22</td>\n",
       "      <td>6.865</td>\n",
       "      <td>Low Fat</td>\n",
       "      <td>0.056783</td>\n",
       "      <td>Snack Foods</td>\n",
       "      <td>214.5218</td>\n",
       "      <td>OUT013</td>\n",
       "      <td>1987</td>\n",
       "      <td>High</td>\n",
       "      <td>Tier 3</td>\n",
       "      <td>Supermarket Type1</td>\n",
       "      <td>2778.3834</td>\n",
       "    </tr>\n",
       "    <tr>\n",
       "      <th>8519</th>\n",
       "      <td>FDS36</td>\n",
       "      <td>8.380</td>\n",
       "      <td>Regular</td>\n",
       "      <td>0.046982</td>\n",
       "      <td>Baking Goods</td>\n",
       "      <td>108.1570</td>\n",
       "      <td>OUT045</td>\n",
       "      <td>2002</td>\n",
       "      <td>Medium</td>\n",
       "      <td>Tier 2</td>\n",
       "      <td>Supermarket Type1</td>\n",
       "      <td>549.2850</td>\n",
       "    </tr>\n",
       "    <tr>\n",
       "      <th>8520</th>\n",
       "      <td>NCJ29</td>\n",
       "      <td>10.600</td>\n",
       "      <td>Low Fat</td>\n",
       "      <td>0.035186</td>\n",
       "      <td>Health and Hygiene</td>\n",
       "      <td>85.1224</td>\n",
       "      <td>OUT035</td>\n",
       "      <td>2004</td>\n",
       "      <td>Small</td>\n",
       "      <td>Tier 2</td>\n",
       "      <td>Supermarket Type1</td>\n",
       "      <td>1193.1136</td>\n",
       "    </tr>\n",
       "    <tr>\n",
       "      <th>8521</th>\n",
       "      <td>FDN46</td>\n",
       "      <td>7.210</td>\n",
       "      <td>Regular</td>\n",
       "      <td>0.145221</td>\n",
       "      <td>Snack Foods</td>\n",
       "      <td>103.1332</td>\n",
       "      <td>OUT018</td>\n",
       "      <td>2009</td>\n",
       "      <td>Medium</td>\n",
       "      <td>Tier 3</td>\n",
       "      <td>Supermarket Type2</td>\n",
       "      <td>1845.5976</td>\n",
       "    </tr>\n",
       "    <tr>\n",
       "      <th>8522</th>\n",
       "      <td>DRG01</td>\n",
       "      <td>14.800</td>\n",
       "      <td>Low Fat</td>\n",
       "      <td>0.044878</td>\n",
       "      <td>Soft Drinks</td>\n",
       "      <td>75.4670</td>\n",
       "      <td>OUT046</td>\n",
       "      <td>1997</td>\n",
       "      <td>Small</td>\n",
       "      <td>Tier 1</td>\n",
       "      <td>Supermarket Type1</td>\n",
       "      <td>765.6700</td>\n",
       "    </tr>\n",
       "  </tbody>\n",
       "</table>\n",
       "<p>8523 rows × 12 columns</p>\n",
       "</div>"
      ],
      "text/plain": [
       "     Item_Identifier  Item_Weight Item_Fat_Content  Item_Visibility  \\\n",
       "0              FDA15        9.300          Low Fat         0.016047   \n",
       "1              DRC01        5.920          Regular         0.019278   \n",
       "2              FDN15       17.500          Low Fat         0.016760   \n",
       "3              FDX07       19.200          Regular         0.000000   \n",
       "4              NCD19        8.930          Low Fat         0.000000   \n",
       "...              ...          ...              ...              ...   \n",
       "8518           FDF22        6.865          Low Fat         0.056783   \n",
       "8519           FDS36        8.380          Regular         0.046982   \n",
       "8520           NCJ29       10.600          Low Fat         0.035186   \n",
       "8521           FDN46        7.210          Regular         0.145221   \n",
       "8522           DRG01       14.800          Low Fat         0.044878   \n",
       "\n",
       "                  Item_Type  Item_MRP Outlet_Identifier  \\\n",
       "0                     Dairy  249.8092            OUT049   \n",
       "1               Soft Drinks   48.2692            OUT018   \n",
       "2                      Meat  141.6180            OUT049   \n",
       "3     Fruits and Vegetables  182.0950            OUT010   \n",
       "4                 Household   53.8614            OUT013   \n",
       "...                     ...       ...               ...   \n",
       "8518            Snack Foods  214.5218            OUT013   \n",
       "8519           Baking Goods  108.1570            OUT045   \n",
       "8520     Health and Hygiene   85.1224            OUT035   \n",
       "8521            Snack Foods  103.1332            OUT018   \n",
       "8522            Soft Drinks   75.4670            OUT046   \n",
       "\n",
       "      Outlet_Establishment_Year Outlet_Size Outlet_Location_Type  \\\n",
       "0                          1999      Medium               Tier 1   \n",
       "1                          2009      Medium               Tier 3   \n",
       "2                          1999      Medium               Tier 1   \n",
       "3                          1998      Medium               Tier 3   \n",
       "4                          1987        High               Tier 3   \n",
       "...                         ...         ...                  ...   \n",
       "8518                       1987        High               Tier 3   \n",
       "8519                       2002      Medium               Tier 2   \n",
       "8520                       2004       Small               Tier 2   \n",
       "8521                       2009      Medium               Tier 3   \n",
       "8522                       1997       Small               Tier 1   \n",
       "\n",
       "            Outlet_Type  Item_Outlet_Sales  \n",
       "0     Supermarket Type1          3735.1380  \n",
       "1     Supermarket Type2           443.4228  \n",
       "2     Supermarket Type1          2097.2700  \n",
       "3         Grocery Store           732.3800  \n",
       "4     Supermarket Type1           994.7052  \n",
       "...                 ...                ...  \n",
       "8518  Supermarket Type1          2778.3834  \n",
       "8519  Supermarket Type1           549.2850  \n",
       "8520  Supermarket Type1          1193.1136  \n",
       "8521  Supermarket Type2          1845.5976  \n",
       "8522  Supermarket Type1           765.6700  \n",
       "\n",
       "[8523 rows x 12 columns]"
      ]
     },
     "execution_count": 20,
     "metadata": {},
     "output_type": "execute_result"
    }
   ],
   "source": [
    "train"
   ]
  },
  {
   "cell_type": "code",
   "execution_count": 21,
   "metadata": {},
   "outputs": [
    {
     "data": {
      "text/html": [
       "<div>\n",
       "<style scoped>\n",
       "    .dataframe tbody tr th:only-of-type {\n",
       "        vertical-align: middle;\n",
       "    }\n",
       "\n",
       "    .dataframe tbody tr th {\n",
       "        vertical-align: top;\n",
       "    }\n",
       "\n",
       "    .dataframe thead th {\n",
       "        text-align: right;\n",
       "    }\n",
       "</style>\n",
       "<table border=\"1\" class=\"dataframe\">\n",
       "  <thead>\n",
       "    <tr style=\"text-align: right;\">\n",
       "      <th></th>\n",
       "      <th>Item_Identifier</th>\n",
       "      <th>Item_Weight</th>\n",
       "      <th>Item_Fat_Content</th>\n",
       "      <th>Item_Visibility</th>\n",
       "      <th>Item_Type</th>\n",
       "      <th>Item_MRP</th>\n",
       "      <th>Outlet_Identifier</th>\n",
       "      <th>Outlet_Establishment_Year</th>\n",
       "      <th>Outlet_Size</th>\n",
       "      <th>Outlet_Location_Type</th>\n",
       "      <th>Outlet_Type</th>\n",
       "    </tr>\n",
       "  </thead>\n",
       "  <tbody>\n",
       "    <tr>\n",
       "      <th>0</th>\n",
       "      <td>FDW58</td>\n",
       "      <td>20.750000</td>\n",
       "      <td>Low Fat</td>\n",
       "      <td>0.007565</td>\n",
       "      <td>Snack Foods</td>\n",
       "      <td>107.8622</td>\n",
       "      <td>OUT049</td>\n",
       "      <td>1999</td>\n",
       "      <td>Medium</td>\n",
       "      <td>Tier 1</td>\n",
       "      <td>Supermarket Type1</td>\n",
       "    </tr>\n",
       "    <tr>\n",
       "      <th>1</th>\n",
       "      <td>FDW14</td>\n",
       "      <td>8.300000</td>\n",
       "      <td>reg</td>\n",
       "      <td>0.038428</td>\n",
       "      <td>Dairy</td>\n",
       "      <td>87.3198</td>\n",
       "      <td>OUT017</td>\n",
       "      <td>2007</td>\n",
       "      <td>Medium</td>\n",
       "      <td>Tier 2</td>\n",
       "      <td>Supermarket Type1</td>\n",
       "    </tr>\n",
       "    <tr>\n",
       "      <th>2</th>\n",
       "      <td>NCN55</td>\n",
       "      <td>14.600000</td>\n",
       "      <td>Low Fat</td>\n",
       "      <td>0.099575</td>\n",
       "      <td>Others</td>\n",
       "      <td>241.7538</td>\n",
       "      <td>OUT010</td>\n",
       "      <td>1998</td>\n",
       "      <td>Medium</td>\n",
       "      <td>Tier 3</td>\n",
       "      <td>Grocery Store</td>\n",
       "    </tr>\n",
       "    <tr>\n",
       "      <th>3</th>\n",
       "      <td>FDQ58</td>\n",
       "      <td>7.315000</td>\n",
       "      <td>Low Fat</td>\n",
       "      <td>0.015388</td>\n",
       "      <td>Snack Foods</td>\n",
       "      <td>155.0340</td>\n",
       "      <td>OUT017</td>\n",
       "      <td>2007</td>\n",
       "      <td>Medium</td>\n",
       "      <td>Tier 2</td>\n",
       "      <td>Supermarket Type1</td>\n",
       "    </tr>\n",
       "    <tr>\n",
       "      <th>4</th>\n",
       "      <td>FDY38</td>\n",
       "      <td>12.857645</td>\n",
       "      <td>Regular</td>\n",
       "      <td>0.118599</td>\n",
       "      <td>Dairy</td>\n",
       "      <td>234.2300</td>\n",
       "      <td>OUT027</td>\n",
       "      <td>1985</td>\n",
       "      <td>Medium</td>\n",
       "      <td>Tier 3</td>\n",
       "      <td>Supermarket Type3</td>\n",
       "    </tr>\n",
       "    <tr>\n",
       "      <th>...</th>\n",
       "      <td>...</td>\n",
       "      <td>...</td>\n",
       "      <td>...</td>\n",
       "      <td>...</td>\n",
       "      <td>...</td>\n",
       "      <td>...</td>\n",
       "      <td>...</td>\n",
       "      <td>...</td>\n",
       "      <td>...</td>\n",
       "      <td>...</td>\n",
       "      <td>...</td>\n",
       "    </tr>\n",
       "    <tr>\n",
       "      <th>5676</th>\n",
       "      <td>FDB58</td>\n",
       "      <td>10.500000</td>\n",
       "      <td>Regular</td>\n",
       "      <td>0.013496</td>\n",
       "      <td>Snack Foods</td>\n",
       "      <td>141.3154</td>\n",
       "      <td>OUT046</td>\n",
       "      <td>1997</td>\n",
       "      <td>Small</td>\n",
       "      <td>Tier 1</td>\n",
       "      <td>Supermarket Type1</td>\n",
       "    </tr>\n",
       "    <tr>\n",
       "      <th>5677</th>\n",
       "      <td>FDD47</td>\n",
       "      <td>7.600000</td>\n",
       "      <td>Regular</td>\n",
       "      <td>0.142991</td>\n",
       "      <td>Starchy Foods</td>\n",
       "      <td>169.1448</td>\n",
       "      <td>OUT018</td>\n",
       "      <td>2009</td>\n",
       "      <td>Medium</td>\n",
       "      <td>Tier 3</td>\n",
       "      <td>Supermarket Type2</td>\n",
       "    </tr>\n",
       "    <tr>\n",
       "      <th>5678</th>\n",
       "      <td>NCO17</td>\n",
       "      <td>10.000000</td>\n",
       "      <td>Low Fat</td>\n",
       "      <td>0.073529</td>\n",
       "      <td>Health and Hygiene</td>\n",
       "      <td>118.7440</td>\n",
       "      <td>OUT045</td>\n",
       "      <td>2002</td>\n",
       "      <td>Medium</td>\n",
       "      <td>Tier 2</td>\n",
       "      <td>Supermarket Type1</td>\n",
       "    </tr>\n",
       "    <tr>\n",
       "      <th>5679</th>\n",
       "      <td>FDJ26</td>\n",
       "      <td>15.300000</td>\n",
       "      <td>Regular</td>\n",
       "      <td>0.000000</td>\n",
       "      <td>Canned</td>\n",
       "      <td>214.6218</td>\n",
       "      <td>OUT017</td>\n",
       "      <td>2007</td>\n",
       "      <td>Medium</td>\n",
       "      <td>Tier 2</td>\n",
       "      <td>Supermarket Type1</td>\n",
       "    </tr>\n",
       "    <tr>\n",
       "      <th>5680</th>\n",
       "      <td>FDU37</td>\n",
       "      <td>9.500000</td>\n",
       "      <td>Regular</td>\n",
       "      <td>0.104720</td>\n",
       "      <td>Canned</td>\n",
       "      <td>79.7960</td>\n",
       "      <td>OUT045</td>\n",
       "      <td>2002</td>\n",
       "      <td>Medium</td>\n",
       "      <td>Tier 2</td>\n",
       "      <td>Supermarket Type1</td>\n",
       "    </tr>\n",
       "  </tbody>\n",
       "</table>\n",
       "<p>5681 rows × 11 columns</p>\n",
       "</div>"
      ],
      "text/plain": [
       "     Item_Identifier  Item_Weight Item_Fat_Content  Item_Visibility  \\\n",
       "0              FDW58    20.750000          Low Fat         0.007565   \n",
       "1              FDW14     8.300000              reg         0.038428   \n",
       "2              NCN55    14.600000          Low Fat         0.099575   \n",
       "3              FDQ58     7.315000          Low Fat         0.015388   \n",
       "4              FDY38    12.857645          Regular         0.118599   \n",
       "...              ...          ...              ...              ...   \n",
       "5676           FDB58    10.500000          Regular         0.013496   \n",
       "5677           FDD47     7.600000          Regular         0.142991   \n",
       "5678           NCO17    10.000000          Low Fat         0.073529   \n",
       "5679           FDJ26    15.300000          Regular         0.000000   \n",
       "5680           FDU37     9.500000          Regular         0.104720   \n",
       "\n",
       "               Item_Type  Item_MRP Outlet_Identifier  \\\n",
       "0            Snack Foods  107.8622            OUT049   \n",
       "1                  Dairy   87.3198            OUT017   \n",
       "2                 Others  241.7538            OUT010   \n",
       "3            Snack Foods  155.0340            OUT017   \n",
       "4                  Dairy  234.2300            OUT027   \n",
       "...                  ...       ...               ...   \n",
       "5676         Snack Foods  141.3154            OUT046   \n",
       "5677       Starchy Foods  169.1448            OUT018   \n",
       "5678  Health and Hygiene  118.7440            OUT045   \n",
       "5679              Canned  214.6218            OUT017   \n",
       "5680              Canned   79.7960            OUT045   \n",
       "\n",
       "      Outlet_Establishment_Year Outlet_Size Outlet_Location_Type  \\\n",
       "0                          1999      Medium               Tier 1   \n",
       "1                          2007      Medium               Tier 2   \n",
       "2                          1998      Medium               Tier 3   \n",
       "3                          2007      Medium               Tier 2   \n",
       "4                          1985      Medium               Tier 3   \n",
       "...                         ...         ...                  ...   \n",
       "5676                       1997       Small               Tier 1   \n",
       "5677                       2009      Medium               Tier 3   \n",
       "5678                       2002      Medium               Tier 2   \n",
       "5679                       2007      Medium               Tier 2   \n",
       "5680                       2002      Medium               Tier 2   \n",
       "\n",
       "            Outlet_Type  \n",
       "0     Supermarket Type1  \n",
       "1     Supermarket Type1  \n",
       "2         Grocery Store  \n",
       "3     Supermarket Type1  \n",
       "4     Supermarket Type3  \n",
       "...                 ...  \n",
       "5676  Supermarket Type1  \n",
       "5677  Supermarket Type2  \n",
       "5678  Supermarket Type1  \n",
       "5679  Supermarket Type1  \n",
       "5680  Supermarket Type1  \n",
       "\n",
       "[5681 rows x 11 columns]"
      ]
     },
     "execution_count": 21,
     "metadata": {},
     "output_type": "execute_result"
    }
   ],
   "source": [
    "test"
   ]
  },
  {
   "cell_type": "markdown",
   "metadata": {},
   "source": [
    "UNIVARIATE ANALYSIS"
   ]
  },
  {
   "cell_type": "code",
   "execution_count": 22,
   "metadata": {},
   "outputs": [],
   "source": [
    "import seaborn as sb\n",
    "import matplotlib.pyplot as plt"
   ]
  },
  {
   "cell_type": "code",
   "execution_count": 23,
   "metadata": {},
   "outputs": [],
   "source": [
    "a=train.head(100)\n",
    "b=test.head(100)"
   ]
  },
  {
   "cell_type": "code",
   "execution_count": 24,
   "metadata": {},
   "outputs": [
    {
     "data": {
      "text/plain": [
       "<matplotlib.axes._subplots.AxesSubplot at 0x2bd40296a90>"
      ]
     },
     "execution_count": 24,
     "metadata": {},
     "output_type": "execute_result"
    },
    {
     "data": {
      "image/png": "[encoded data removed]",
      "text/plain": [
       "<Figure size 432x288 with 1 Axes>"
      ]
     },
     "metadata": {
      "needs_background": "light"
     },
     "output_type": "display_data"
    }
   ],
   "source": [
    "a.plot.bar()"
   ]
  },
  {
   "cell_type": "code",
   "execution_count": 25,
   "metadata": {},
   "outputs": [
    {
     "data": {
      "text/plain": [
       "12.857645    19\n",
       "10.000000     3\n",
       "11.800000     3\n",
       "12.150000     3\n",
       "15.100000     2\n",
       "             ..\n",
       "21.350000     1\n",
       "7.760000      1\n",
       "6.305000      1\n",
       "19.350000     1\n",
       "20.850000     1\n",
       "Name: Item_Weight, Length: 65, dtype: int64"
      ]
     },
     "execution_count": 25,
     "metadata": {},
     "output_type": "execute_result"
    }
   ],
   "source": [
    "a['Item_Weight'].value_counts()"
   ]
  },
  {
   "cell_type": "code",
   "execution_count": 26,
   "metadata": {},
   "outputs": [
    {
     "data": {
      "text/plain": [
       "<matplotlib.axes._subplots.AxesSubplot at 0x2bd4103a4f0>"
      ]
     },
     "execution_count": 26,
     "metadata": {},
     "output_type": "execute_result"
    },
    {
     "data": {
      "image/png": "[encoded data removed]",
      "text/plain": [
       "<Figure size 432x288 with 1 Axes>"
      ]
     },
     "metadata": {
      "needs_background": "light"
     },
     "output_type": "display_data"
    }
   ],
   "source": [
    "a['Item_Weight'].plot.hist()"
   ]
  },
  {
   "cell_type": "code",
   "execution_count": 27,
   "metadata": {},
   "outputs": [],
   "source": [
    "#Most of the items are of weight 13"
   ]
  },
  {
   "cell_type": "code",
   "execution_count": 28,
   "metadata": {},
   "outputs": [
    {
     "data": {
      "text/plain": [
       "194.5110    1\n",
       "45.5086     1\n",
       "230.6352    1\n",
       "106.1622    1\n",
       "141.5154    1\n",
       "           ..\n",
       "265.2226    1\n",
       "149.9708    1\n",
       "95.6436     1\n",
       "177.0028    1\n",
       "53.8614     1\n",
       "Name: Item_MRP, Length: 100, dtype: int64"
      ]
     },
     "execution_count": 28,
     "metadata": {},
     "output_type": "execute_result"
    }
   ],
   "source": [
    "a['Item_MRP'].value_counts()"
   ]
  },
  {
   "cell_type": "code",
   "execution_count": 29,
   "metadata": {},
   "outputs": [
    {
     "data": {
      "text/plain": [
       "<matplotlib.axes._subplots.AxesSubplot at 0x2bd410a7fd0>"
      ]
     },
     "execution_count": 29,
     "metadata": {},
     "output_type": "execute_result"
    },
    {
     "data": {
      "image/png": "[encoded data removed]",
      "text/plain": [
       "<Figure size 432x288 with 1 Axes>"
      ]
     },
     "metadata": {
      "needs_background": "light"
     },
     "output_type": "display_data"
    }
   ],
   "source": [
    "sb.distplot(a['Item_MRP'])"
   ]
  },
  {
   "cell_type": "code",
   "execution_count": 30,
   "metadata": {},
   "outputs": [],
   "source": [
    "#Graph is almost Normalized and most of items are of range 150-180"
   ]
  },
  {
   "cell_type": "code",
   "execution_count": 31,
   "metadata": {},
   "outputs": [
    {
     "data": {
      "text/plain": [
       "Low Fat    63\n",
       "Regular    28\n",
       "LF          7\n",
       "reg         1\n",
       "low fat     1\n",
       "Name: Item_Fat_Content, dtype: int64"
      ]
     },
     "execution_count": 31,
     "metadata": {},
     "output_type": "execute_result"
    }
   ],
   "source": [
    "b['Item_Fat_Content'].value_counts()"
   ]
  },
  {
   "cell_type": "code",
   "execution_count": 32,
   "metadata": {},
   "outputs": [
    {
     "data": {
      "text/plain": [
       "<matplotlib.axes._subplots.AxesSubplot at 0x2bd411057c0>"
      ]
     },
     "execution_count": 32,
     "metadata": {},
     "output_type": "execute_result"
    },
    {
     "data": {
      "image/png": "[encoded data removed]",
      "text/plain": [
       "<Figure size 432x288 with 1 Axes>"
      ]
     },
     "metadata": {
      "needs_background": "light"
     },
     "output_type": "display_data"
    }
   ],
   "source": [
    "sb.countplot(b['Item_Fat_Content'])"
   ]
  },
  {
   "cell_type": "code",
   "execution_count": 33,
   "metadata": {},
   "outputs": [],
   "source": [
    "#Most of the items are Low Fat Items"
   ]
  },
  {
   "cell_type": "code",
   "execution_count": 34,
   "metadata": {},
   "outputs": [
    {
     "data": {
      "text/plain": [
       "<matplotlib.axes._subplots.AxesSubplot at 0x2bd410190a0>"
      ]
     },
     "execution_count": 34,
     "metadata": {},
     "output_type": "execute_result"
    },
    {
     "data": {
      "image/png": "[encoded data removed]",
      "text/plain": [
       "<Figure size 432x288 with 1 Axes>"
      ]
     },
     "metadata": {
      "needs_background": "light"
     },
     "output_type": "display_data"
    }
   ],
   "source": [
    "sb.countplot(b['Item_Type'])"
   ]
  },
  {
   "cell_type": "code",
   "execution_count": 35,
   "metadata": {},
   "outputs": [
    {
     "data": {
      "text/plain": [
       "Household                14\n",
       "Dairy                    13\n",
       "Snack Foods              13\n",
       "Fruits and Vegetables    12\n",
       "Baking Goods              8\n",
       "Frozen Foods              6\n",
       "Breads                    5\n",
       "Health and Hygiene        5\n",
       "Canned                    4\n",
       "Others                    4\n",
       "Starchy Foods             4\n",
       "Meat                      4\n",
       "Soft Drinks               4\n",
       "Hard Drinks               3\n",
       "Seafood                   1\n",
       "Name: Item_Type, dtype: int64"
      ]
     },
     "execution_count": 35,
     "metadata": {},
     "output_type": "execute_result"
    }
   ],
   "source": [
    "b['Item_Type'].value_counts()"
   ]
  },
  {
   "cell_type": "code",
   "execution_count": 36,
   "metadata": {},
   "outputs": [],
   "source": [
    "#Most of the items sold are household items"
   ]
  },
  {
   "cell_type": "markdown",
   "metadata": {},
   "source": [
    "BI_Variate Analysis"
   ]
  },
  {
   "cell_type": "code",
   "execution_count": 37,
   "metadata": {},
   "outputs": [
    {
     "data": {
      "text/plain": [
       "<matplotlib.axes._subplots.AxesSubplot at 0x2bd40fb6ca0>"
      ]
     },
     "execution_count": 37,
     "metadata": {},
     "output_type": "execute_result"
    },
    {
     "data": {
      "image/png": "[encoded data removed]",
      "text/plain": [
       "<Figure size 432x288 with 1 Axes>"
      ]
     },
     "metadata": {
      "needs_background": "light"
     },
     "output_type": "display_data"
    }
   ],
   "source": [
    "sb.lineplot(x=a['Item_Weight'],y=a['Item_MRP'],data=a)"
   ]
  },
  {
   "cell_type": "code",
   "execution_count": 38,
   "metadata": {},
   "outputs": [],
   "source": [
    "#The item with the maximum wieght is having the maximum price but the item and weight are not related to each other"
   ]
  },
  {
   "cell_type": "code",
   "execution_count": 39,
   "metadata": {},
   "outputs": [
    {
     "data": {
      "text/plain": [
       "<matplotlib.axes._subplots.AxesSubplot at 0x2bd41226100>"
      ]
     },
     "execution_count": 39,
     "metadata": {},
     "output_type": "execute_result"
    },
    {
     "data": {
      "image/png": "[encoded data removed]",
      "text/plain": [
       "<Figure size 432x288 with 1 Axes>"
      ]
     },
     "metadata": {
      "needs_background": "light"
     },
     "output_type": "display_data"
    }
   ],
   "source": [
    "sb.scatterplot(x=a['Item_MRP'],y=a['Item_Outlet_Sales'],data=a)"
   ]
  },
  {
   "cell_type": "code",
   "execution_count": 40,
   "metadata": {},
   "outputs": [],
   "source": [
    "#Most of the items sold are mid range from 100-200, very few costly items are sold"
   ]
  },
  {
   "cell_type": "code",
   "execution_count": 41,
   "metadata": {},
   "outputs": [
    {
     "data": {
      "image/png": "[encoded data removed]",
      "text/plain": [
       "<Figure size 1080x1080 with 6 Axes>"
      ]
     },
     "metadata": {
      "needs_background": "light"
     },
     "output_type": "display_data"
    }
   ],
   "source": [
    "a.hist(figsize=(15,15),bins=20)\n",
    "plt.show()"
   ]
  },
  {
   "cell_type": "code",
   "execution_count": 42,
   "metadata": {},
   "outputs": [],
   "source": [
    "#MAximium items are of Item MRP 170-180\n",
    "#There are very few outlets that have crossed the sales beyong 5000\n",
    "#Maximum items are of wight 13kg\n",
    "#Maximum outlets were established during 1997-1999"
   ]
  },
  {
   "cell_type": "code",
   "execution_count": 43,
   "metadata": {},
   "outputs": [
    {
     "data": {
      "text/plain": [
       "<matplotlib.axes._subplots.AxesSubplot at 0x2bd41a33f40>"
      ]
     },
     "execution_count": 43,
     "metadata": {},
     "output_type": "execute_result"
    },
    {
     "data": {
      "image/png": "[encoded data removed]",
      "text/plain": [
       "<Figure size 432x288 with 2 Axes>"
      ]
     },
     "metadata": {
      "needs_background": "light"
     },
     "output_type": "display_data"
    }
   ],
   "source": [
    "sb.heatmap(a.corr())"
   ]
  },
  {
   "cell_type": "code",
   "execution_count": 44,
   "metadata": {},
   "outputs": [],
   "source": [
    "#Item_Visibility is highly negative related to Outlet_establishment_year and Item_outlet_sales and item weight"
   ]
  },
  {
   "cell_type": "markdown",
   "metadata": {},
   "source": [
    "# Removing Columns"
   ]
  },
  {
   "cell_type": "code",
   "execution_count": 45,
   "metadata": {},
   "outputs": [],
   "source": [
    "train.drop('Item_Visibility',axis=1,inplace=True)"
   ]
  },
  {
   "cell_type": "code",
   "execution_count": 46,
   "metadata": {},
   "outputs": [
    {
     "data": {
      "text/plain": [
       "<matplotlib.axes._subplots.AxesSubplot at 0x2bd41de1f10>"
      ]
     },
     "execution_count": 46,
     "metadata": {},
     "output_type": "execute_result"
    },
    {
     "data": {
      "image/png": "[encoded data removed]",
      "text/plain": [
       "<Figure size 432x288 with 2 Axes>"
      ]
     },
     "metadata": {
      "needs_background": "light"
     },
     "output_type": "display_data"
    }
   ],
   "source": [
    "sb.heatmap(b.corr())"
   ]
  },
  {
   "cell_type": "code",
   "execution_count": 47,
   "metadata": {},
   "outputs": [],
   "source": [
    "test.drop('Item_Visibility',axis=1,inplace=True)"
   ]
  },
  {
   "cell_type": "code",
   "execution_count": 48,
   "metadata": {},
   "outputs": [],
   "source": [
    "#Item_Visibility is highly negative related to Outlet_establishment_year and item weight"
   ]
  },
  {
   "cell_type": "markdown",
   "metadata": {},
   "source": [
    "Statistical Analysis"
   ]
  },
  {
   "cell_type": "code",
   "execution_count": 49,
   "metadata": {},
   "outputs": [
    {
     "data": {
      "text/html": [
       "<div>\n",
       "<style scoped>\n",
       "    .dataframe tbody tr th:only-of-type {\n",
       "        vertical-align: middle;\n",
       "    }\n",
       "\n",
       "    .dataframe tbody tr th {\n",
       "        vertical-align: top;\n",
       "    }\n",
       "\n",
       "    .dataframe thead th {\n",
       "        text-align: right;\n",
       "    }\n",
       "</style>\n",
       "<table border=\"1\" class=\"dataframe\">\n",
       "  <thead>\n",
       "    <tr style=\"text-align: right;\">\n",
       "      <th></th>\n",
       "      <th>Item_Weight</th>\n",
       "      <th>Item_MRP</th>\n",
       "      <th>Outlet_Establishment_Year</th>\n",
       "      <th>Item_Outlet_Sales</th>\n",
       "    </tr>\n",
       "  </thead>\n",
       "  <tbody>\n",
       "    <tr>\n",
       "      <th>count</th>\n",
       "      <td>8523.000000</td>\n",
       "      <td>8523.000000</td>\n",
       "      <td>8523.000000</td>\n",
       "      <td>8523.000000</td>\n",
       "    </tr>\n",
       "    <tr>\n",
       "      <th>mean</th>\n",
       "      <td>12.857645</td>\n",
       "      <td>140.992782</td>\n",
       "      <td>1997.831867</td>\n",
       "      <td>2181.288914</td>\n",
       "    </tr>\n",
       "    <tr>\n",
       "      <th>std</th>\n",
       "      <td>4.226124</td>\n",
       "      <td>62.275067</td>\n",
       "      <td>8.371760</td>\n",
       "      <td>1706.499616</td>\n",
       "    </tr>\n",
       "    <tr>\n",
       "      <th>min</th>\n",
       "      <td>4.555000</td>\n",
       "      <td>31.290000</td>\n",
       "      <td>1985.000000</td>\n",
       "      <td>33.290000</td>\n",
       "    </tr>\n",
       "    <tr>\n",
       "      <th>25%</th>\n",
       "      <td>9.310000</td>\n",
       "      <td>93.826500</td>\n",
       "      <td>1987.000000</td>\n",
       "      <td>834.247400</td>\n",
       "    </tr>\n",
       "    <tr>\n",
       "      <th>50%</th>\n",
       "      <td>12.857645</td>\n",
       "      <td>143.012800</td>\n",
       "      <td>1999.000000</td>\n",
       "      <td>1794.331000</td>\n",
       "    </tr>\n",
       "    <tr>\n",
       "      <th>75%</th>\n",
       "      <td>16.000000</td>\n",
       "      <td>185.643700</td>\n",
       "      <td>2004.000000</td>\n",
       "      <td>3101.296400</td>\n",
       "    </tr>\n",
       "    <tr>\n",
       "      <th>max</th>\n",
       "      <td>21.350000</td>\n",
       "      <td>266.888400</td>\n",
       "      <td>2009.000000</td>\n",
       "      <td>13086.964800</td>\n",
       "    </tr>\n",
       "  </tbody>\n",
       "</table>\n",
       "</div>"
      ],
      "text/plain": [
       "       Item_Weight     Item_MRP  Outlet_Establishment_Year  Item_Outlet_Sales\n",
       "count  8523.000000  8523.000000                8523.000000        8523.000000\n",
       "mean     12.857645   140.992782                1997.831867        2181.288914\n",
       "std       4.226124    62.275067                   8.371760        1706.499616\n",
       "min       4.555000    31.290000                1985.000000          33.290000\n",
       "25%       9.310000    93.826500                1987.000000         834.247400\n",
       "50%      12.857645   143.012800                1999.000000        1794.331000\n",
       "75%      16.000000   185.643700                2004.000000        3101.296400\n",
       "max      21.350000   266.888400                2009.000000       13086.964800"
      ]
     },
     "execution_count": 49,
     "metadata": {},
     "output_type": "execute_result"
    }
   ],
   "source": [
    "train.describe()"
   ]
  },
  {
   "cell_type": "code",
   "execution_count": 50,
   "metadata": {},
   "outputs": [
    {
     "data": {
      "text/html": [
       "<div>\n",
       "<style scoped>\n",
       "    .dataframe tbody tr th:only-of-type {\n",
       "        vertical-align: middle;\n",
       "    }\n",
       "\n",
       "    .dataframe tbody tr th {\n",
       "        vertical-align: top;\n",
       "    }\n",
       "\n",
       "    .dataframe thead th {\n",
       "        text-align: right;\n",
       "    }\n",
       "</style>\n",
       "<table border=\"1\" class=\"dataframe\">\n",
       "  <thead>\n",
       "    <tr style=\"text-align: right;\">\n",
       "      <th></th>\n",
       "      <th>Item_Weight</th>\n",
       "      <th>Item_MRP</th>\n",
       "      <th>Outlet_Establishment_Year</th>\n",
       "    </tr>\n",
       "  </thead>\n",
       "  <tbody>\n",
       "    <tr>\n",
       "      <th>count</th>\n",
       "      <td>5681.000000</td>\n",
       "      <td>5681.000000</td>\n",
       "      <td>5681.000000</td>\n",
       "    </tr>\n",
       "    <tr>\n",
       "      <th>mean</th>\n",
       "      <td>12.723467</td>\n",
       "      <td>141.023273</td>\n",
       "      <td>1997.828903</td>\n",
       "    </tr>\n",
       "    <tr>\n",
       "      <th>std</th>\n",
       "      <td>4.245629</td>\n",
       "      <td>61.809091</td>\n",
       "      <td>8.372256</td>\n",
       "    </tr>\n",
       "    <tr>\n",
       "      <th>min</th>\n",
       "      <td>4.555000</td>\n",
       "      <td>31.990000</td>\n",
       "      <td>1985.000000</td>\n",
       "    </tr>\n",
       "    <tr>\n",
       "      <th>25%</th>\n",
       "      <td>9.195000</td>\n",
       "      <td>94.412000</td>\n",
       "      <td>1987.000000</td>\n",
       "    </tr>\n",
       "    <tr>\n",
       "      <th>50%</th>\n",
       "      <td>12.857645</td>\n",
       "      <td>141.415400</td>\n",
       "      <td>1999.000000</td>\n",
       "    </tr>\n",
       "    <tr>\n",
       "      <th>75%</th>\n",
       "      <td>15.850000</td>\n",
       "      <td>186.026600</td>\n",
       "      <td>2004.000000</td>\n",
       "    </tr>\n",
       "    <tr>\n",
       "      <th>max</th>\n",
       "      <td>21.350000</td>\n",
       "      <td>266.588400</td>\n",
       "      <td>2009.000000</td>\n",
       "    </tr>\n",
       "  </tbody>\n",
       "</table>\n",
       "</div>"
      ],
      "text/plain": [
       "       Item_Weight     Item_MRP  Outlet_Establishment_Year\n",
       "count  5681.000000  5681.000000                5681.000000\n",
       "mean     12.723467   141.023273                1997.828903\n",
       "std       4.245629    61.809091                   8.372256\n",
       "min       4.555000    31.990000                1985.000000\n",
       "25%       9.195000    94.412000                1987.000000\n",
       "50%      12.857645   141.415400                1999.000000\n",
       "75%      15.850000   186.026600                2004.000000\n",
       "max      21.350000   266.588400                2009.000000"
      ]
     },
     "execution_count": 50,
     "metadata": {},
     "output_type": "execute_result"
    }
   ],
   "source": [
    "test.describe()"
   ]
  },
  {
   "cell_type": "code",
   "execution_count": 51,
   "metadata": {},
   "outputs": [],
   "source": [
    "#The gap between the 75% percentile and max value shows that there are outliers\n",
    "#The average of item_weight is 12.85 and item MRP is 141.\n",
    "#Maximum item wieght is 21.35 and maximum item MRP is 266"
   ]
  },
  {
   "cell_type": "markdown",
   "metadata": {},
   "source": [
    "Looking for outliers"
   ]
  },
  {
   "cell_type": "code",
   "execution_count": 52,
   "metadata": {},
   "outputs": [
    {
     "data": {
      "text/plain": [
       "Item_Weight                     AxesSubplot(0.125,0.71587;0.168478x0.16413)\n",
       "Item_MRP                     AxesSubplot(0.327174,0.71587;0.168478x0.16413)\n",
       "Outlet_Establishment_Year    AxesSubplot(0.529348,0.71587;0.168478x0.16413)\n",
       "Item_Outlet_Sales            AxesSubplot(0.731522,0.71587;0.168478x0.16413)\n",
       "dtype: object"
      ]
     },
     "execution_count": 52,
     "metadata": {},
     "output_type": "execute_result"
    },
    {
     "data": {
      "image/png": "[encoded data removed]",
      "text/plain": [
       "<Figure size 432x288 with 16 Axes>"
      ]
     },
     "metadata": {
      "needs_background": "light"
     },
     "output_type": "display_data"
    }
   ],
   "source": [
    "train.plot(kind='box',layout = (4,4),subplots= True)"
   ]
  },
  {
   "cell_type": "code",
   "execution_count": 53,
   "metadata": {},
   "outputs": [],
   "source": [
    "#There are many outliers present in Item_Outlet_sales"
   ]
  },
  {
   "cell_type": "code",
   "execution_count": 54,
   "metadata": {},
   "outputs": [
    {
     "data": {
      "text/plain": [
       "Item_Weight                     AxesSubplot(0.125,0.71587;0.168478x0.16413)\n",
       "Item_MRP                     AxesSubplot(0.327174,0.71587;0.168478x0.16413)\n",
       "Outlet_Establishment_Year    AxesSubplot(0.529348,0.71587;0.168478x0.16413)\n",
       "dtype: object"
      ]
     },
     "execution_count": 54,
     "metadata": {},
     "output_type": "execute_result"
    },
    {
     "data": {
      "image/png": "[encoded data removed]",
      "text/plain": [
       "<Figure size 432x288 with 16 Axes>"
      ]
     },
     "metadata": {
      "needs_background": "light"
     },
     "output_type": "display_data"
    }
   ],
   "source": [
    "test.plot(kind='box',layout=(4,4),subplots=True)"
   ]
  },
  {
   "cell_type": "code",
   "execution_count": 55,
   "metadata": {},
   "outputs": [
    {
     "data": {
      "text/plain": [
       "Item_Identifier               object\n",
       "Item_Weight                  float64\n",
       "Item_Fat_Content              object\n",
       "Item_Type                     object\n",
       "Item_MRP                     float64\n",
       "Outlet_Identifier             object\n",
       "Outlet_Establishment_Year      int64\n",
       "Outlet_Size                   object\n",
       "Outlet_Location_Type          object\n",
       "Outlet_Type                   object\n",
       "Item_Outlet_Sales            float64\n",
       "dtype: object"
      ]
     },
     "execution_count": 55,
     "metadata": {},
     "output_type": "execute_result"
    }
   ],
   "source": [
    "train.dtypes"
   ]
  },
  {
   "cell_type": "code",
   "execution_count": 56,
   "metadata": {},
   "outputs": [
    {
     "data": {
      "text/plain": [
       "Item_Identifier               object\n",
       "Item_Weight                  float64\n",
       "Item_Fat_Content              object\n",
       "Item_Type                     object\n",
       "Item_MRP                     float64\n",
       "Outlet_Identifier             object\n",
       "Outlet_Establishment_Year      int64\n",
       "Outlet_Size                   object\n",
       "Outlet_Location_Type          object\n",
       "Outlet_Type                   object\n",
       "dtype: object"
      ]
     },
     "execution_count": 56,
     "metadata": {},
     "output_type": "execute_result"
    }
   ],
   "source": [
    "test.dtypes"
   ]
  },
  {
   "cell_type": "code",
   "execution_count": 57,
   "metadata": {},
   "outputs": [],
   "source": [
    "import sklearn \n",
    "from sklearn.preprocessing import LabelEncoder\n",
    "le=LabelEncoder()"
   ]
  },
  {
   "cell_type": "code",
   "execution_count": 58,
   "metadata": {},
   "outputs": [],
   "source": [
    "list=['Item_Identifier','Item_Fat_Content','Item_Type','Outlet_Size','Outlet_Identifier','Outlet_Size','Outlet_Location_Type','Outlet_Type']\n",
    "for val in list:\n",
    "    train[val]=le.fit_transform(train[val])\n",
    "    test[val]=le.fit_transform(test[val])"
   ]
  },
  {
   "cell_type": "code",
   "execution_count": 59,
   "metadata": {},
   "outputs": [
    {
     "data": {
      "text/plain": [
       "Item_Identifier                int32\n",
       "Item_Weight                  float64\n",
       "Item_Fat_Content               int32\n",
       "Item_Type                      int32\n",
       "Item_MRP                     float64\n",
       "Outlet_Identifier              int32\n",
       "Outlet_Establishment_Year      int64\n",
       "Outlet_Size                    int64\n",
       "Outlet_Location_Type           int32\n",
       "Outlet_Type                    int32\n",
       "Item_Outlet_Sales            float64\n",
       "dtype: object"
      ]
     },
     "execution_count": 59,
     "metadata": {},
     "output_type": "execute_result"
    }
   ],
   "source": [
    "train.dtypes"
   ]
  },
  {
   "cell_type": "code",
   "execution_count": 60,
   "metadata": {},
   "outputs": [
    {
     "data": {
      "text/plain": [
       "Item_Identifier                int32\n",
       "Item_Weight                  float64\n",
       "Item_Fat_Content               int32\n",
       "Item_Type                      int32\n",
       "Item_MRP                     float64\n",
       "Outlet_Identifier              int32\n",
       "Outlet_Establishment_Year      int64\n",
       "Outlet_Size                    int64\n",
       "Outlet_Location_Type           int32\n",
       "Outlet_Type                    int32\n",
       "dtype: object"
      ]
     },
     "execution_count": 60,
     "metadata": {},
     "output_type": "execute_result"
    }
   ],
   "source": [
    "test.dtypes"
   ]
  },
  {
   "cell_type": "code",
   "execution_count": 61,
   "metadata": {},
   "outputs": [
    {
     "data": {
      "text/html": [
       "<div>\n",
       "<style scoped>\n",
       "    .dataframe tbody tr th:only-of-type {\n",
       "        vertical-align: middle;\n",
       "    }\n",
       "\n",
       "    .dataframe tbody tr th {\n",
       "        vertical-align: top;\n",
       "    }\n",
       "\n",
       "    .dataframe thead th {\n",
       "        text-align: right;\n",
       "    }\n",
       "</style>\n",
       "<table border=\"1\" class=\"dataframe\">\n",
       "  <thead>\n",
       "    <tr style=\"text-align: right;\">\n",
       "      <th></th>\n",
       "      <th>Item_Identifier</th>\n",
       "      <th>Item_Weight</th>\n",
       "      <th>Item_Fat_Content</th>\n",
       "      <th>Item_Type</th>\n",
       "      <th>Item_MRP</th>\n",
       "      <th>Outlet_Identifier</th>\n",
       "      <th>Outlet_Establishment_Year</th>\n",
       "      <th>Outlet_Size</th>\n",
       "      <th>Outlet_Location_Type</th>\n",
       "      <th>Outlet_Type</th>\n",
       "      <th>Item_Outlet_Sales</th>\n",
       "    </tr>\n",
       "  </thead>\n",
       "  <tbody>\n",
       "    <tr>\n",
       "      <th>0</th>\n",
       "      <td>156</td>\n",
       "      <td>9.300</td>\n",
       "      <td>1</td>\n",
       "      <td>4</td>\n",
       "      <td>249.8092</td>\n",
       "      <td>9</td>\n",
       "      <td>1999</td>\n",
       "      <td>1</td>\n",
       "      <td>0</td>\n",
       "      <td>1</td>\n",
       "      <td>3735.1380</td>\n",
       "    </tr>\n",
       "    <tr>\n",
       "      <th>1</th>\n",
       "      <td>8</td>\n",
       "      <td>5.920</td>\n",
       "      <td>2</td>\n",
       "      <td>14</td>\n",
       "      <td>48.2692</td>\n",
       "      <td>3</td>\n",
       "      <td>2009</td>\n",
       "      <td>1</td>\n",
       "      <td>2</td>\n",
       "      <td>2</td>\n",
       "      <td>443.4228</td>\n",
       "    </tr>\n",
       "    <tr>\n",
       "      <th>2</th>\n",
       "      <td>662</td>\n",
       "      <td>17.500</td>\n",
       "      <td>1</td>\n",
       "      <td>10</td>\n",
       "      <td>141.6180</td>\n",
       "      <td>9</td>\n",
       "      <td>1999</td>\n",
       "      <td>1</td>\n",
       "      <td>0</td>\n",
       "      <td>1</td>\n",
       "      <td>2097.2700</td>\n",
       "    </tr>\n",
       "    <tr>\n",
       "      <th>3</th>\n",
       "      <td>1121</td>\n",
       "      <td>19.200</td>\n",
       "      <td>2</td>\n",
       "      <td>6</td>\n",
       "      <td>182.0950</td>\n",
       "      <td>0</td>\n",
       "      <td>1998</td>\n",
       "      <td>1</td>\n",
       "      <td>2</td>\n",
       "      <td>0</td>\n",
       "      <td>732.3800</td>\n",
       "    </tr>\n",
       "    <tr>\n",
       "      <th>4</th>\n",
       "      <td>1297</td>\n",
       "      <td>8.930</td>\n",
       "      <td>1</td>\n",
       "      <td>9</td>\n",
       "      <td>53.8614</td>\n",
       "      <td>1</td>\n",
       "      <td>1987</td>\n",
       "      <td>0</td>\n",
       "      <td>2</td>\n",
       "      <td>1</td>\n",
       "      <td>994.7052</td>\n",
       "    </tr>\n",
       "    <tr>\n",
       "      <th>...</th>\n",
       "      <td>...</td>\n",
       "      <td>...</td>\n",
       "      <td>...</td>\n",
       "      <td>...</td>\n",
       "      <td>...</td>\n",
       "      <td>...</td>\n",
       "      <td>...</td>\n",
       "      <td>...</td>\n",
       "      <td>...</td>\n",
       "      <td>...</td>\n",
       "      <td>...</td>\n",
       "    </tr>\n",
       "    <tr>\n",
       "      <th>8518</th>\n",
       "      <td>370</td>\n",
       "      <td>6.865</td>\n",
       "      <td>1</td>\n",
       "      <td>13</td>\n",
       "      <td>214.5218</td>\n",
       "      <td>1</td>\n",
       "      <td>1987</td>\n",
       "      <td>0</td>\n",
       "      <td>2</td>\n",
       "      <td>1</td>\n",
       "      <td>2778.3834</td>\n",
       "    </tr>\n",
       "    <tr>\n",
       "      <th>8519</th>\n",
       "      <td>897</td>\n",
       "      <td>8.380</td>\n",
       "      <td>2</td>\n",
       "      <td>0</td>\n",
       "      <td>108.1570</td>\n",
       "      <td>7</td>\n",
       "      <td>2002</td>\n",
       "      <td>1</td>\n",
       "      <td>1</td>\n",
       "      <td>1</td>\n",
       "      <td>549.2850</td>\n",
       "    </tr>\n",
       "    <tr>\n",
       "      <th>8520</th>\n",
       "      <td>1357</td>\n",
       "      <td>10.600</td>\n",
       "      <td>1</td>\n",
       "      <td>8</td>\n",
       "      <td>85.1224</td>\n",
       "      <td>6</td>\n",
       "      <td>2004</td>\n",
       "      <td>2</td>\n",
       "      <td>1</td>\n",
       "      <td>1</td>\n",
       "      <td>1193.1136</td>\n",
       "    </tr>\n",
       "    <tr>\n",
       "      <th>8521</th>\n",
       "      <td>681</td>\n",
       "      <td>7.210</td>\n",
       "      <td>2</td>\n",
       "      <td>13</td>\n",
       "      <td>103.1332</td>\n",
       "      <td>3</td>\n",
       "      <td>2009</td>\n",
       "      <td>1</td>\n",
       "      <td>2</td>\n",
       "      <td>2</td>\n",
       "      <td>1845.5976</td>\n",
       "    </tr>\n",
       "    <tr>\n",
       "      <th>8522</th>\n",
       "      <td>50</td>\n",
       "      <td>14.800</td>\n",
       "      <td>1</td>\n",
       "      <td>14</td>\n",
       "      <td>75.4670</td>\n",
       "      <td>8</td>\n",
       "      <td>1997</td>\n",
       "      <td>2</td>\n",
       "      <td>0</td>\n",
       "      <td>1</td>\n",
       "      <td>765.6700</td>\n",
       "    </tr>\n",
       "  </tbody>\n",
       "</table>\n",
       "<p>8523 rows × 11 columns</p>\n",
       "</div>"
      ],
      "text/plain": [
       "      Item_Identifier  Item_Weight  Item_Fat_Content  Item_Type  Item_MRP  \\\n",
       "0                 156        9.300                 1          4  249.8092   \n",
       "1                   8        5.920                 2         14   48.2692   \n",
       "2                 662       17.500                 1         10  141.6180   \n",
       "3                1121       19.200                 2          6  182.0950   \n",
       "4                1297        8.930                 1          9   53.8614   \n",
       "...               ...          ...               ...        ...       ...   \n",
       "8518              370        6.865                 1         13  214.5218   \n",
       "8519              897        8.380                 2          0  108.1570   \n",
       "8520             1357       10.600                 1          8   85.1224   \n",
       "8521              681        7.210                 2         13  103.1332   \n",
       "8522               50       14.800                 1         14   75.4670   \n",
       "\n",
       "      Outlet_Identifier  Outlet_Establishment_Year  Outlet_Size  \\\n",
       "0                     9                       1999            1   \n",
       "1                     3                       2009            1   \n",
       "2                     9                       1999            1   \n",
       "3                     0                       1998            1   \n",
       "4                     1                       1987            0   \n",
       "...                 ...                        ...          ...   \n",
       "8518                  1                       1987            0   \n",
       "8519                  7                       2002            1   \n",
       "8520                  6                       2004            2   \n",
       "8521                  3                       2009            1   \n",
       "8522                  8                       1997            2   \n",
       "\n",
       "      Outlet_Location_Type  Outlet_Type  Item_Outlet_Sales  \n",
       "0                        0            1          3735.1380  \n",
       "1                        2            2           443.4228  \n",
       "2                        0            1          2097.2700  \n",
       "3                        2            0           732.3800  \n",
       "4                        2            1           994.7052  \n",
       "...                    ...          ...                ...  \n",
       "8518                     2            1          2778.3834  \n",
       "8519                     1            1           549.2850  \n",
       "8520                     1            1          1193.1136  \n",
       "8521                     2            2          1845.5976  \n",
       "8522                     0            1           765.6700  \n",
       "\n",
       "[8523 rows x 11 columns]"
      ]
     },
     "execution_count": 61,
     "metadata": {},
     "output_type": "execute_result"
    }
   ],
   "source": [
    "train"
   ]
  },
  {
   "cell_type": "markdown",
   "metadata": {},
   "source": [
    "# Removing Outliers"
   ]
  },
  {
   "cell_type": "code",
   "execution_count": 62,
   "metadata": {},
   "outputs": [],
   "source": [
    "import scipy \n",
    "from scipy import stats\n",
    "from scipy.stats import zscore"
   ]
  },
  {
   "cell_type": "code",
   "execution_count": 63,
   "metadata": {},
   "outputs": [],
   "source": [
    "z=np.abs(zscore(train))"
   ]
  },
  {
   "cell_type": "code",
   "execution_count": 64,
   "metadata": {},
   "outputs": [
    {
     "name": "stdout",
     "output_type": "stream",
     "text": [
      "(array([   0,    0,    0, ..., 8522, 8522, 8522], dtype=int64), array([ 0,  1,  2, ...,  8,  9, 10], dtype=int64))\n"
     ]
    }
   ],
   "source": [
    "threshold=3\n",
    "print(np. where (z<3))"
   ]
  },
  {
   "cell_type": "code",
   "execution_count": 65,
   "metadata": {},
   "outputs": [],
   "source": [
    "train_new=train[(z<3).all (axis=1)]"
   ]
  },
  {
   "cell_type": "code",
   "execution_count": 66,
   "metadata": {},
   "outputs": [
    {
     "name": "stdout",
     "output_type": "stream",
     "text": [
      "(8523, 11)\n",
      "(8317, 11)\n"
     ]
    }
   ],
   "source": [
    "print(train.shape)\n",
    "print(train_new.shape)"
   ]
  },
  {
   "cell_type": "code",
   "execution_count": 67,
   "metadata": {},
   "outputs": [
    {
     "name": "stdout",
     "output_type": "stream",
     "text": [
      "(array([   1,  103,  242,  369,  499,  595,  739,  783,  797,  815,  985,\n",
      "        996, 1025, 1037, 1105, 1143, 1256, 1284, 1314, 1321, 1422, 1437,\n",
      "       1539, 1757, 1780, 1853, 1927, 2070, 2167, 2271, 2275, 2365, 2595,\n",
      "       2798, 2866, 2915, 2926, 3039, 3077, 3097, 3357, 3362, 3461, 3565,\n",
      "       3622, 3744, 3778, 3783, 3950, 4021, 4133, 4146, 4148, 4232, 4330,\n",
      "       4334, 4340, 4352, 4478, 4542, 4616, 4692, 4726, 4845, 4870, 4921,\n",
      "       4941, 4965, 4970, 5132, 5154, 5168, 5323, 5328, 5429, 5447, 5542,\n",
      "       5671], dtype=int64), array([2, 2, 2, 2, 2, 2, 2, 2, 2, 2, 2, 2, 2, 2, 2, 2, 2, 2, 2, 2, 2, 2,\n",
      "       2, 2, 2, 2, 2, 2, 2, 2, 2, 2, 2, 2, 2, 2, 2, 2, 2, 2, 2, 2, 2, 2,\n",
      "       2, 2, 2, 2, 2, 2, 2, 2, 2, 2, 2, 2, 2, 2, 2, 2, 2, 2, 2, 2, 2, 2,\n",
      "       2, 2, 2, 2, 2, 2, 2, 2, 2, 2, 2, 2], dtype=int64))\n"
     ]
    }
   ],
   "source": [
    "zz=np.abs(zscore(test))\n",
    "\n",
    "threshold=3\n",
    "print(np.where(zz>3))"
   ]
  },
  {
   "cell_type": "code",
   "execution_count": 68,
   "metadata": {},
   "outputs": [],
   "source": [
    "test_new=test[(zz<3).all (axis=1)]"
   ]
  },
  {
   "cell_type": "code",
   "execution_count": 69,
   "metadata": {},
   "outputs": [
    {
     "name": "stdout",
     "output_type": "stream",
     "text": [
      "(5681, 10)\n",
      "(5603, 10)\n"
     ]
    }
   ],
   "source": [
    "print(test.shape)\n",
    "print(test_new.shape)"
   ]
  },
  {
   "cell_type": "markdown",
   "metadata": {},
   "source": [
    "# Normalization of Data"
   ]
  },
  {
   "cell_type": "code",
   "execution_count": 70,
   "metadata": {},
   "outputs": [
    {
     "name": "stdout",
     "output_type": "stream",
     "text": [
      "(8317, 10)\n",
      "(8317, 1)\n"
     ]
    }
   ],
   "source": [
    "x=train_new.iloc[ : , :-1]\n",
    "y=train_new.iloc[ : , -1].values.reshape(-1,1)\n",
    "print(x.shape)\n",
    "print(y.shape)"
   ]
  },
  {
   "cell_type": "code",
   "execution_count": 71,
   "metadata": {},
   "outputs": [],
   "source": [
    "import sklearn\n",
    "from sklearn.preprocessing import StandardScaler\n",
    "s=StandardScaler()\n",
    "x=pd.DataFrame(s.fit_transform(x),columns=x.columns)"
   ]
  },
  {
   "cell_type": "code",
   "execution_count": 72,
   "metadata": {},
   "outputs": [
    {
     "data": {
      "text/html": [
       "<div>\n",
       "<style scoped>\n",
       "    .dataframe tbody tr th:only-of-type {\n",
       "        vertical-align: middle;\n",
       "    }\n",
       "\n",
       "    .dataframe tbody tr th {\n",
       "        vertical-align: top;\n",
       "    }\n",
       "\n",
       "    .dataframe thead th {\n",
       "        text-align: right;\n",
       "    }\n",
       "</style>\n",
       "<table border=\"1\" class=\"dataframe\">\n",
       "  <thead>\n",
       "    <tr style=\"text-align: right;\">\n",
       "      <th></th>\n",
       "      <th>Item_Identifier</th>\n",
       "      <th>Item_Weight</th>\n",
       "      <th>Item_Fat_Content</th>\n",
       "      <th>Item_Type</th>\n",
       "      <th>Item_MRP</th>\n",
       "      <th>Outlet_Identifier</th>\n",
       "      <th>Outlet_Establishment_Year</th>\n",
       "      <th>Outlet_Size</th>\n",
       "      <th>Outlet_Location_Type</th>\n",
       "      <th>Outlet_Type</th>\n",
       "    </tr>\n",
       "  </thead>\n",
       "  <tbody>\n",
       "    <tr>\n",
       "      <th>0</th>\n",
       "      <td>-1.386258</td>\n",
       "      <td>-0.839175</td>\n",
       "      <td>-0.583726</td>\n",
       "      <td>-0.768436</td>\n",
       "      <td>1.771720</td>\n",
       "      <td>1.504633</td>\n",
       "      <td>0.132456</td>\n",
       "      <td>-0.287221</td>\n",
       "      <td>-1.363091</td>\n",
       "      <td>-0.241143</td>\n",
       "    </tr>\n",
       "    <tr>\n",
       "      <th>1</th>\n",
       "      <td>-1.714380</td>\n",
       "      <td>-1.636489</td>\n",
       "      <td>1.172097</td>\n",
       "      <td>1.610526</td>\n",
       "      <td>-1.484887</td>\n",
       "      <td>-0.605303</td>\n",
       "      <td>1.331583</td>\n",
       "      <td>-0.287221</td>\n",
       "      <td>1.098761</td>\n",
       "      <td>1.029020</td>\n",
       "    </tr>\n",
       "    <tr>\n",
       "      <th>2</th>\n",
       "      <td>-0.264435</td>\n",
       "      <td>1.095135</td>\n",
       "      <td>-0.583726</td>\n",
       "      <td>0.658941</td>\n",
       "      <td>0.023500</td>\n",
       "      <td>1.504633</td>\n",
       "      <td>0.132456</td>\n",
       "      <td>-0.287221</td>\n",
       "      <td>-1.363091</td>\n",
       "      <td>-0.241143</td>\n",
       "    </tr>\n",
       "    <tr>\n",
       "      <th>3</th>\n",
       "      <td>0.753186</td>\n",
       "      <td>1.496150</td>\n",
       "      <td>1.172097</td>\n",
       "      <td>-0.292643</td>\n",
       "      <td>0.677552</td>\n",
       "      <td>-1.660271</td>\n",
       "      <td>0.012543</td>\n",
       "      <td>-0.287221</td>\n",
       "      <td>1.098761</td>\n",
       "      <td>-1.511307</td>\n",
       "    </tr>\n",
       "    <tr>\n",
       "      <th>4</th>\n",
       "      <td>1.143385</td>\n",
       "      <td>-0.926455</td>\n",
       "      <td>-0.583726</td>\n",
       "      <td>0.421045</td>\n",
       "      <td>-1.394525</td>\n",
       "      <td>-1.308615</td>\n",
       "      <td>-1.306496</td>\n",
       "      <td>-1.947274</td>\n",
       "      <td>1.098761</td>\n",
       "      <td>-0.241143</td>\n",
       "    </tr>\n",
       "    <tr>\n",
       "      <th>...</th>\n",
       "      <td>...</td>\n",
       "      <td>...</td>\n",
       "      <td>...</td>\n",
       "      <td>...</td>\n",
       "      <td>...</td>\n",
       "      <td>...</td>\n",
       "      <td>...</td>\n",
       "      <td>...</td>\n",
       "      <td>...</td>\n",
       "      <td>...</td>\n",
       "    </tr>\n",
       "    <tr>\n",
       "      <th>8312</th>\n",
       "      <td>-0.911811</td>\n",
       "      <td>-1.413571</td>\n",
       "      <td>-0.583726</td>\n",
       "      <td>1.372630</td>\n",
       "      <td>1.201524</td>\n",
       "      <td>-1.308615</td>\n",
       "      <td>-1.306496</td>\n",
       "      <td>-1.947274</td>\n",
       "      <td>1.098761</td>\n",
       "      <td>-0.241143</td>\n",
       "    </tr>\n",
       "    <tr>\n",
       "      <th>8313</th>\n",
       "      <td>0.256569</td>\n",
       "      <td>-1.056196</td>\n",
       "      <td>1.172097</td>\n",
       "      <td>-1.720020</td>\n",
       "      <td>-0.517183</td>\n",
       "      <td>0.801321</td>\n",
       "      <td>0.492194</td>\n",
       "      <td>-0.287221</td>\n",
       "      <td>-0.132165</td>\n",
       "      <td>-0.241143</td>\n",
       "    </tr>\n",
       "    <tr>\n",
       "      <th>8314</th>\n",
       "      <td>1.276408</td>\n",
       "      <td>-0.532517</td>\n",
       "      <td>-0.583726</td>\n",
       "      <td>0.183149</td>\n",
       "      <td>-0.889390</td>\n",
       "      <td>0.449665</td>\n",
       "      <td>0.732020</td>\n",
       "      <td>1.372832</td>\n",
       "      <td>-0.132165</td>\n",
       "      <td>-0.241143</td>\n",
       "    </tr>\n",
       "    <tr>\n",
       "      <th>8315</th>\n",
       "      <td>-0.222312</td>\n",
       "      <td>-1.332189</td>\n",
       "      <td>1.172097</td>\n",
       "      <td>1.372630</td>\n",
       "      <td>-0.598361</td>\n",
       "      <td>-0.605303</td>\n",
       "      <td>1.331583</td>\n",
       "      <td>-0.287221</td>\n",
       "      <td>1.098761</td>\n",
       "      <td>1.029020</td>\n",
       "    </tr>\n",
       "    <tr>\n",
       "      <th>8316</th>\n",
       "      <td>-1.621264</td>\n",
       "      <td>0.458228</td>\n",
       "      <td>-0.583726</td>\n",
       "      <td>1.610526</td>\n",
       "      <td>-1.045408</td>\n",
       "      <td>1.152977</td>\n",
       "      <td>-0.107369</td>\n",
       "      <td>1.372832</td>\n",
       "      <td>-1.363091</td>\n",
       "      <td>-0.241143</td>\n",
       "    </tr>\n",
       "  </tbody>\n",
       "</table>\n",
       "<p>8317 rows × 10 columns</p>\n",
       "</div>"
      ],
      "text/plain": [
       "      Item_Identifier  Item_Weight  Item_Fat_Content  Item_Type  Item_MRP  \\\n",
       "0           -1.386258    -0.839175         -0.583726  -0.768436  1.771720   \n",
       "1           -1.714380    -1.636489          1.172097   1.610526 -1.484887   \n",
       "2           -0.264435     1.095135         -0.583726   0.658941  0.023500   \n",
       "3            0.753186     1.496150          1.172097  -0.292643  0.677552   \n",
       "4            1.143385    -0.926455         -0.583726   0.421045 -1.394525   \n",
       "...               ...          ...               ...        ...       ...   \n",
       "8312        -0.911811    -1.413571         -0.583726   1.372630  1.201524   \n",
       "8313         0.256569    -1.056196          1.172097  -1.720020 -0.517183   \n",
       "8314         1.276408    -0.532517         -0.583726   0.183149 -0.889390   \n",
       "8315        -0.222312    -1.332189          1.172097   1.372630 -0.598361   \n",
       "8316        -1.621264     0.458228         -0.583726   1.610526 -1.045408   \n",
       "\n",
       "      Outlet_Identifier  Outlet_Establishment_Year  Outlet_Size  \\\n",
       "0              1.504633                   0.132456    -0.287221   \n",
       "1             -0.605303                   1.331583    -0.287221   \n",
       "2              1.504633                   0.132456    -0.287221   \n",
       "3             -1.660271                   0.012543    -0.287221   \n",
       "4             -1.308615                  -1.306496    -1.947274   \n",
       "...                 ...                        ...          ...   \n",
       "8312          -1.308615                  -1.306496    -1.947274   \n",
       "8313           0.801321                   0.492194    -0.287221   \n",
       "8314           0.449665                   0.732020     1.372832   \n",
       "8315          -0.605303                   1.331583    -0.287221   \n",
       "8316           1.152977                  -0.107369     1.372832   \n",
       "\n",
       "      Outlet_Location_Type  Outlet_Type  \n",
       "0                -1.363091    -0.241143  \n",
       "1                 1.098761     1.029020  \n",
       "2                -1.363091    -0.241143  \n",
       "3                 1.098761    -1.511307  \n",
       "4                 1.098761    -0.241143  \n",
       "...                    ...          ...  \n",
       "8312              1.098761    -0.241143  \n",
       "8313             -0.132165    -0.241143  \n",
       "8314             -0.132165    -0.241143  \n",
       "8315              1.098761     1.029020  \n",
       "8316             -1.363091    -0.241143  \n",
       "\n",
       "[8317 rows x 10 columns]"
      ]
     },
     "execution_count": 72,
     "metadata": {},
     "output_type": "execute_result"
    }
   ],
   "source": [
    "x"
   ]
  },
  {
   "cell_type": "code",
   "execution_count": 73,
   "metadata": {},
   "outputs": [],
   "source": [
    "test_new=pd.DataFrame(s.fit_transform(test_new),columns=test_new.columns)"
   ]
  },
  {
   "cell_type": "code",
   "execution_count": 74,
   "metadata": {},
   "outputs": [
    {
     "data": {
      "text/html": [
       "<div>\n",
       "<style scoped>\n",
       "    .dataframe tbody tr th:only-of-type {\n",
       "        vertical-align: middle;\n",
       "    }\n",
       "\n",
       "    .dataframe tbody tr th {\n",
       "        vertical-align: top;\n",
       "    }\n",
       "\n",
       "    .dataframe thead th {\n",
       "        text-align: right;\n",
       "    }\n",
       "</style>\n",
       "<table border=\"1\" class=\"dataframe\">\n",
       "  <thead>\n",
       "    <tr style=\"text-align: right;\">\n",
       "      <th></th>\n",
       "      <th>Item_Identifier</th>\n",
       "      <th>Item_Weight</th>\n",
       "      <th>Item_Fat_Content</th>\n",
       "      <th>Item_Type</th>\n",
       "      <th>Item_MRP</th>\n",
       "      <th>Outlet_Identifier</th>\n",
       "      <th>Outlet_Establishment_Year</th>\n",
       "      <th>Outlet_Size</th>\n",
       "      <th>Outlet_Location_Type</th>\n",
       "      <th>Outlet_Type</th>\n",
       "    </tr>\n",
       "  </thead>\n",
       "  <tbody>\n",
       "    <tr>\n",
       "      <th>0</th>\n",
       "      <td>0.735165</td>\n",
       "      <td>1.889644</td>\n",
       "      <td>-0.588150</td>\n",
       "      <td>1.366612</td>\n",
       "      <td>-0.537920</td>\n",
       "      <td>1.508780</td>\n",
       "      <td>0.138312</td>\n",
       "      <td>-0.285814</td>\n",
       "      <td>-1.370669</td>\n",
       "      <td>-0.253212</td>\n",
       "    </tr>\n",
       "    <tr>\n",
       "      <th>1</th>\n",
       "      <td>1.413163</td>\n",
       "      <td>0.440806</td>\n",
       "      <td>-0.588150</td>\n",
       "      <td>0.891677</td>\n",
       "      <td>1.629479</td>\n",
       "      <td>-1.665323</td>\n",
       "      <td>0.018866</td>\n",
       "      <td>-0.285814</td>\n",
       "      <td>1.091218</td>\n",
       "      <td>-1.507631</td>\n",
       "    </tr>\n",
       "    <tr>\n",
       "      <th>2</th>\n",
       "      <td>0.077305</td>\n",
       "      <td>-1.275419</td>\n",
       "      <td>-0.588150</td>\n",
       "      <td>1.366612</td>\n",
       "      <td>0.225684</td>\n",
       "      <td>-0.959967</td>\n",
       "      <td>1.093872</td>\n",
       "      <td>-0.285814</td>\n",
       "      <td>-0.139725</td>\n",
       "      <td>-0.253212</td>\n",
       "    </tr>\n",
       "    <tr>\n",
       "      <th>3</th>\n",
       "      <td>0.916412</td>\n",
       "      <td>0.030336</td>\n",
       "      <td>1.182621</td>\n",
       "      <td>-0.770592</td>\n",
       "      <td>1.507686</td>\n",
       "      <td>0.098068</td>\n",
       "      <td>-1.533919</td>\n",
       "      <td>-0.285814</td>\n",
       "      <td>1.091218</td>\n",
       "      <td>2.255626</td>\n",
       "    </tr>\n",
       "    <tr>\n",
       "      <th>4</th>\n",
       "      <td>-0.701386</td>\n",
       "      <td>-0.689995</td>\n",
       "      <td>1.182621</td>\n",
       "      <td>-0.295658</td>\n",
       "      <td>-0.387585</td>\n",
       "      <td>1.156102</td>\n",
       "      <td>-0.100579</td>\n",
       "      <td>1.382327</td>\n",
       "      <td>-1.370669</td>\n",
       "      <td>-0.253212</td>\n",
       "    </tr>\n",
       "    <tr>\n",
       "      <th>...</th>\n",
       "      <td>...</td>\n",
       "      <td>...</td>\n",
       "      <td>...</td>\n",
       "      <td>...</td>\n",
       "      <td>...</td>\n",
       "      <td>...</td>\n",
       "      <td>...</td>\n",
       "      <td>...</td>\n",
       "      <td>...</td>\n",
       "      <td>...</td>\n",
       "    </tr>\n",
       "    <tr>\n",
       "      <th>5598</th>\n",
       "      <td>-1.216038</td>\n",
       "      <td>-0.525086</td>\n",
       "      <td>1.182621</td>\n",
       "      <td>1.366612</td>\n",
       "      <td>0.003611</td>\n",
       "      <td>1.156102</td>\n",
       "      <td>-0.100579</td>\n",
       "      <td>1.382327</td>\n",
       "      <td>-1.370669</td>\n",
       "      <td>-0.253212</td>\n",
       "    </tr>\n",
       "    <tr>\n",
       "      <th>5599</th>\n",
       "      <td>-1.048217</td>\n",
       "      <td>-1.208278</td>\n",
       "      <td>1.182621</td>\n",
       "      <td>1.841546</td>\n",
       "      <td>0.454105</td>\n",
       "      <td>-0.607289</td>\n",
       "      <td>1.332762</td>\n",
       "      <td>-0.285814</td>\n",
       "      <td>1.091218</td>\n",
       "      <td>1.001207</td>\n",
       "    </tr>\n",
       "    <tr>\n",
       "      <th>5600</th>\n",
       "      <td>1.426589</td>\n",
       "      <td>-0.642878</td>\n",
       "      <td>-0.588150</td>\n",
       "      <td>0.179276</td>\n",
       "      <td>-0.361768</td>\n",
       "      <td>0.803424</td>\n",
       "      <td>0.496647</td>\n",
       "      <td>-0.285814</td>\n",
       "      <td>-0.139725</td>\n",
       "      <td>-0.253212</td>\n",
       "    </tr>\n",
       "    <tr>\n",
       "      <th>5601</th>\n",
       "      <td>-0.576079</td>\n",
       "      <td>0.605714</td>\n",
       "      <td>1.182621</td>\n",
       "      <td>-1.008059</td>\n",
       "      <td>1.190274</td>\n",
       "      <td>-0.959967</td>\n",
       "      <td>1.093872</td>\n",
       "      <td>-0.285814</td>\n",
       "      <td>-0.139725</td>\n",
       "      <td>-0.253212</td>\n",
       "    </tr>\n",
       "    <tr>\n",
       "      <th>5602</th>\n",
       "      <td>0.475601</td>\n",
       "      <td>-0.760670</td>\n",
       "      <td>1.182621</td>\n",
       "      <td>-1.008059</td>\n",
       "      <td>-0.992248</td>\n",
       "      <td>0.803424</td>\n",
       "      <td>0.496647</td>\n",
       "      <td>-0.285814</td>\n",
       "      <td>-0.139725</td>\n",
       "      <td>-0.253212</td>\n",
       "    </tr>\n",
       "  </tbody>\n",
       "</table>\n",
       "<p>5603 rows × 10 columns</p>\n",
       "</div>"
      ],
      "text/plain": [
       "      Item_Identifier  Item_Weight  Item_Fat_Content  Item_Type  Item_MRP  \\\n",
       "0            0.735165     1.889644         -0.588150   1.366612 -0.537920   \n",
       "1            1.413163     0.440806         -0.588150   0.891677  1.629479   \n",
       "2            0.077305    -1.275419         -0.588150   1.366612  0.225684   \n",
       "3            0.916412     0.030336          1.182621  -0.770592  1.507686   \n",
       "4           -0.701386    -0.689995          1.182621  -0.295658 -0.387585   \n",
       "...               ...          ...               ...        ...       ...   \n",
       "5598        -1.216038    -0.525086          1.182621   1.366612  0.003611   \n",
       "5599        -1.048217    -1.208278          1.182621   1.841546  0.454105   \n",
       "5600         1.426589    -0.642878         -0.588150   0.179276 -0.361768   \n",
       "5601        -0.576079     0.605714          1.182621  -1.008059  1.190274   \n",
       "5602         0.475601    -0.760670          1.182621  -1.008059 -0.992248   \n",
       "\n",
       "      Outlet_Identifier  Outlet_Establishment_Year  Outlet_Size  \\\n",
       "0              1.508780                   0.138312    -0.285814   \n",
       "1             -1.665323                   0.018866    -0.285814   \n",
       "2             -0.959967                   1.093872    -0.285814   \n",
       "3              0.098068                  -1.533919    -0.285814   \n",
       "4              1.156102                  -0.100579     1.382327   \n",
       "...                 ...                        ...          ...   \n",
       "5598           1.156102                  -0.100579     1.382327   \n",
       "5599          -0.607289                   1.332762    -0.285814   \n",
       "5600           0.803424                   0.496647    -0.285814   \n",
       "5601          -0.959967                   1.093872    -0.285814   \n",
       "5602           0.803424                   0.496647    -0.285814   \n",
       "\n",
       "      Outlet_Location_Type  Outlet_Type  \n",
       "0                -1.370669    -0.253212  \n",
       "1                 1.091218    -1.507631  \n",
       "2                -0.139725    -0.253212  \n",
       "3                 1.091218     2.255626  \n",
       "4                -1.370669    -0.253212  \n",
       "...                    ...          ...  \n",
       "5598             -1.370669    -0.253212  \n",
       "5599              1.091218     1.001207  \n",
       "5600             -0.139725    -0.253212  \n",
       "5601             -0.139725    -0.253212  \n",
       "5602             -0.139725    -0.253212  \n",
       "\n",
       "[5603 rows x 10 columns]"
      ]
     },
     "execution_count": 74,
     "metadata": {},
     "output_type": "execute_result"
    }
   ],
   "source": [
    "test_new"
   ]
  },
  {
   "cell_type": "markdown",
   "metadata": {},
   "source": [
    "# Checking Skewness"
   ]
  },
  {
   "cell_type": "code",
   "execution_count": 75,
   "metadata": {},
   "outputs": [
    {
     "data": {
      "text/plain": [
       "Item_Identifier             -0.012257\n",
       "Item_Weight                  0.088509\n",
       "Item_Fat_Content             0.283015\n",
       "Item_Type                    0.095381\n",
       "Item_MRP                     0.137207\n",
       "Outlet_Identifier           -0.059837\n",
       "Outlet_Establishment_Year   -0.407954\n",
       "Outlet_Size                 -0.093858\n",
       "Outlet_Location_Type        -0.198586\n",
       "Outlet_Type                  0.936402\n",
       "dtype: float64"
      ]
     },
     "execution_count": 75,
     "metadata": {},
     "output_type": "execute_result"
    }
   ],
   "source": [
    "x.skew()"
   ]
  },
  {
   "cell_type": "code",
   "execution_count": 76,
   "metadata": {},
   "outputs": [
    {
     "data": {
      "text/plain": [
       "array([[<matplotlib.axes._subplots.AxesSubplot object at 0x000002BD41969670>,\n",
       "        <matplotlib.axes._subplots.AxesSubplot object at 0x000002BD419867C0>,\n",
       "        <matplotlib.axes._subplots.AxesSubplot object at 0x000002BD419AFC10>],\n",
       "       [<matplotlib.axes._subplots.AxesSubplot object at 0x000002BD41A6B100>,\n",
       "        <matplotlib.axes._subplots.AxesSubplot object at 0x000002BD41AA24F0>,\n",
       "        <matplotlib.axes._subplots.AxesSubplot object at 0x000002BD41ACF880>],\n",
       "       [<matplotlib.axes._subplots.AxesSubplot object at 0x000002BD41ACF970>,\n",
       "        <matplotlib.axes._subplots.AxesSubplot object at 0x000002BD41AFCE20>,\n",
       "        <matplotlib.axes._subplots.AxesSubplot object at 0x000002BD41B60580>],\n",
       "       [<matplotlib.axes._subplots.AxesSubplot object at 0x000002BD41B89D30>,\n",
       "        <matplotlib.axes._subplots.AxesSubplot object at 0x000002BD41BBF430>,\n",
       "        <matplotlib.axes._subplots.AxesSubplot object at 0x000002BD41BDCD60>]],\n",
       "      dtype=object)"
      ]
     },
     "execution_count": 76,
     "metadata": {},
     "output_type": "execute_result"
    },
    {
     "data": {
      "image/png": "[encoded data removed]",
      "text/plain": [
       "<Figure size 720x720 with 12 Axes>"
      ]
     },
     "metadata": {
      "needs_background": "light"
     },
     "output_type": "display_data"
    }
   ],
   "source": [
    "x.hist(figsize=(10,10),bins=10)"
   ]
  },
  {
   "cell_type": "code",
   "execution_count": 77,
   "metadata": {},
   "outputs": [
    {
     "data": {
      "text/plain": [
       "Item_Identifier             -0.002211\n",
       "Item_Weight                  0.121227\n",
       "Item_Fat_Content             0.268820\n",
       "Item_Type                    0.092718\n",
       "Item_MRP                     0.134484\n",
       "Outlet_Identifier           -0.060267\n",
       "Outlet_Establishment_Year   -0.398625\n",
       "Outlet_Size                 -0.085480\n",
       "Outlet_Location_Type        -0.210245\n",
       "Outlet_Type                  0.924907\n",
       "dtype: float64"
      ]
     },
     "execution_count": 77,
     "metadata": {},
     "output_type": "execute_result"
    }
   ],
   "source": [
    "test_new.skew()"
   ]
  },
  {
   "cell_type": "code",
   "execution_count": 78,
   "metadata": {},
   "outputs": [
    {
     "data": {
      "text/plain": [
       "array([[<matplotlib.axes._subplots.AxesSubplot object at 0x000002BD4324C910>,\n",
       "        <matplotlib.axes._subplots.AxesSubplot object at 0x000002BD4326FC40>,\n",
       "        <matplotlib.axes._subplots.AxesSubplot object at 0x000002BD4329B160>],\n",
       "       [<matplotlib.axes._subplots.AxesSubplot object at 0x000002BD434435E0>,\n",
       "        <matplotlib.axes._subplots.AxesSubplot object at 0x000002BD4346FA30>,\n",
       "        <matplotlib.axes._subplots.AxesSubplot object at 0x000002BD4349BDC0>],\n",
       "       [<matplotlib.axes._subplots.AxesSubplot object at 0x000002BD4349BEB0>,\n",
       "        <matplotlib.axes._subplots.AxesSubplot object at 0x000002BD434D53A0>,\n",
       "        <matplotlib.axes._subplots.AxesSubplot object at 0x000002BD4352FBB0>],\n",
       "       [<matplotlib.axes._subplots.AxesSubplot object at 0x000002BD4355C0A0>,\n",
       "        <matplotlib.axes._subplots.AxesSubplot object at 0x000002BD435943D0>,\n",
       "        <matplotlib.axes._subplots.AxesSubplot object at 0x000002BD435B3A00>]],\n",
       "      dtype=object)"
      ]
     },
     "execution_count": 78,
     "metadata": {},
     "output_type": "execute_result"
    },
    {
     "data": {
      "image/png": "[encoded data removed]",
      "text/plain": [
       "<Figure size 720x720 with 12 Axes>"
      ]
     },
     "metadata": {
      "needs_background": "light"
     },
     "output_type": "display_data"
    }
   ],
   "source": [
    "test_new.hist(figsize=(10,10),bins=10)"
   ]
  },
  {
   "cell_type": "code",
   "execution_count": 86,
   "metadata": {},
   "outputs": [],
   "source": [
    "from sklearn.preprocessing import PowerTransformer\n",
    "p=PowerTransformer(method='yeo-johnson',standardize=True)\n",
    "x=pd.DataFrame(p.fit_transform(x),columns=x.columns)\n",
    "test_new=pd.DataFrame(p.fit_transform(test_new),columns=test_new.columns)"
   ]
  },
  {
   "cell_type": "code",
   "execution_count": 87,
   "metadata": {},
   "outputs": [
    {
     "data": {
      "text/plain": [
       "Item_Identifier             -0.000470\n",
       "Item_Weight                  0.003819\n",
       "Item_Fat_Content            -0.217190\n",
       "Item_Type                   -0.027987\n",
       "Item_MRP                     0.009635\n",
       "Outlet_Identifier            0.001113\n",
       "Outlet_Establishment_Year   -0.000003\n",
       "Outlet_Size                 -0.148700\n",
       "Outlet_Location_Type        -0.053976\n",
       "Outlet_Type                 -0.045888\n",
       "dtype: float64"
      ]
     },
     "execution_count": 87,
     "metadata": {},
     "output_type": "execute_result"
    }
   ],
   "source": [
    "x.skew()"
   ]
  },
  {
   "cell_type": "code",
   "execution_count": 88,
   "metadata": {},
   "outputs": [
    {
     "data": {
      "text/plain": [
       "Item_Identifier             -0.000315\n",
       "Item_Weight                  0.010175\n",
       "Item_Fat_Content            -0.221030\n",
       "Item_Type                   -0.025589\n",
       "Item_MRP                     0.004901\n",
       "Outlet_Identifier            0.001506\n",
       "Outlet_Establishment_Year    0.000653\n",
       "Outlet_Size                 -0.150448\n",
       "Outlet_Location_Type        -0.056646\n",
       "Outlet_Type                 -0.054677\n",
       "dtype: float64"
      ]
     },
     "execution_count": 88,
     "metadata": {},
     "output_type": "execute_result"
    }
   ],
   "source": [
    "test_new.skew()"
   ]
  },
  {
   "cell_type": "code",
   "execution_count": 89,
   "metadata": {},
   "outputs": [],
   "source": [
    "import sklearn\n",
    "from sklearn.model_selection import train_test_split\n",
    "from sklearn.linear_model import LinearRegression\n",
    "from sklearn.metrics import mean_absolute_error\n",
    "from sklearn.metrics import mean_squared_error\n",
    "from sklearn.metrics import r2_score"
   ]
  },
  {
   "cell_type": "code",
   "execution_count": 90,
   "metadata": {},
   "outputs": [],
   "source": [
    "def max_r2(regr,x,y):\n",
    "    max_r_score=0\n",
    "    for r_state in range(42,101):\n",
    "        x_train,x_test,y_train,y_test=train_test_split(x,y,random_state=r_state,test_size=0.20)\n",
    "        regr.fit(x_train,y_train)\n",
    "        pred=regr.predict(x_test)\n",
    "        r2score=r2_score(pred,y_test)\n",
    "        print('R2 score is',r2score,'at random state',r_state)\n",
    "        \n",
    "        if r2score>max_r_score:\n",
    "            max_r_score=r2score\n",
    "            final_r_state=r_state\n",
    "    print('\\n')        \n",
    "    print('At Random State',final_r_state,'Max R2 Score is',max_r_score,)\n",
    "    \n",
    "    return final_r_state"
   ]
  },
  {
   "cell_type": "code",
   "execution_count": 91,
   "metadata": {},
   "outputs": [
    {
     "name": "stdout",
     "output_type": "stream",
     "text": [
      "R2 score is 0.058966471649203656 at random state 42\n",
      "R2 score is 0.08727222890317554 at random state 43\n",
      "R2 score is 0.024930442244120554 at random state 44\n",
      "R2 score is 0.08601819363390528 at random state 45\n",
      "R2 score is 0.0942606540053289 at random state 46\n",
      "R2 score is 0.07678896036466931 at random state 47\n",
      "R2 score is 0.04081031692350978 at random state 48\n",
      "R2 score is 0.07999398883862652 at random state 49\n",
      "R2 score is 0.04139873193271937 at random state 50\n",
      "R2 score is 0.13048848999290164 at random state 51\n",
      "R2 score is 0.04017959564454421 at random state 52\n",
      "R2 score is 0.050233104877597023 at random state 53\n",
      "R2 score is 0.13365989805786738 at random state 54\n",
      "R2 score is 0.1532529754880192 at random state 55\n",
      "R2 score is 0.19063527495376043 at random state 56\n",
      "R2 score is 0.04790385349744064 at random state 57\n",
      "R2 score is 0.0958295982522388 at random state 58\n",
      "R2 score is 0.02709474206244622 at random state 59\n",
      "R2 score is 0.09609276162450775 at random state 60\n",
      "R2 score is 0.07994921720948989 at random state 61\n",
      "R2 score is 0.08955290393898274 at random state 62\n",
      "R2 score is 0.10310920597475537 at random state 63\n",
      "R2 score is 0.10743543968695446 at random state 64\n",
      "R2 score is 0.06073519505175584 at random state 65\n",
      "R2 score is 0.03599151705898462 at random state 66\n",
      "R2 score is 0.10439517725371461 at random state 67\n",
      "R2 score is 0.09818811422850948 at random state 68\n",
      "R2 score is 0.07524366553896278 at random state 69\n",
      "R2 score is 0.10648349776767196 at random state 70\n",
      "R2 score is 0.1050458965869625 at random state 71\n",
      "R2 score is 0.03987288121494492 at random state 72\n",
      "R2 score is 0.12872741305730706 at random state 73\n",
      "R2 score is 0.13392545339091289 at random state 74\n",
      "R2 score is 0.09353818503493505 at random state 75\n",
      "R2 score is 0.1565377671372422 at random state 76\n",
      "R2 score is 0.11726748742228632 at random state 77\n",
      "R2 score is 0.08195409381044438 at random state 78\n",
      "R2 score is 0.1105806323257209 at random state 79\n",
      "R2 score is 0.11951460566762273 at random state 80\n",
      "R2 score is 0.0574120131989021 at random state 81\n",
      "R2 score is 0.046275883745360846 at random state 82\n",
      "R2 score is 0.07531299979255313 at random state 83\n",
      "R2 score is 0.05972117575090019 at random state 84\n",
      "R2 score is 0.10023428812309887 at random state 85\n",
      "R2 score is 0.10046613277206362 at random state 86\n",
      "R2 score is 0.05110144827381735 at random state 87\n",
      "R2 score is 0.02798582704554442 at random state 88\n",
      "R2 score is 0.13682296152050466 at random state 89\n",
      "R2 score is -0.011974243504866422 at random state 90\n",
      "R2 score is 0.1001468924188863 at random state 91\n",
      "R2 score is 0.08980573855801377 at random state 92\n",
      "R2 score is 0.06366007007258745 at random state 93\n",
      "R2 score is 0.05169781628361825 at random state 94\n",
      "R2 score is 0.05928694259506595 at random state 95\n",
      "R2 score is 0.11340835190790755 at random state 96\n",
      "R2 score is 0.11490288075916544 at random state 97\n",
      "R2 score is 0.10073856861143182 at random state 98\n",
      "R2 score is 0.07854664051857452 at random state 99\n",
      "R2 score is 0.10069545966869298 at random state 100\n",
      "\n",
      "\n",
      "At Random State 56 Max R2 Score is 0.19063527495376043\n"
     ]
    }
   ],
   "source": [
    "lr=LinearRegression()\n",
    "r_state=max_r2(lr,x,y)"
   ]
  },
  {
   "cell_type": "code",
   "execution_count": 92,
   "metadata": {},
   "outputs": [
    {
     "name": "stdout",
     "output_type": "stream",
     "text": [
      "R2 score is 0.17891378513030687 at random state 42\n",
      "R2 score is 0.20293376792356765 at random state 43\n",
      "R2 score is 0.21934576249005167 at random state 44\n",
      "R2 score is 0.18954483595393 at random state 45\n",
      "R2 score is 0.21692034202360388 at random state 46\n",
      "R2 score is 0.10384830855541571 at random state 47\n",
      "R2 score is 0.14647291856442035 at random state 48\n",
      "R2 score is 0.15915898939403372 at random state 49\n",
      "R2 score is 0.13781266675891657 at random state 50\n",
      "R2 score is 0.13409633650792385 at random state 51\n",
      "R2 score is 0.20544331508143776 at random state 52\n",
      "R2 score is 0.22583895165928436 at random state 53\n",
      "R2 score is 0.2463703550052856 at random state 54\n",
      "R2 score is 0.15044814796624673 at random state 55\n",
      "R2 score is 0.27336348122806364 at random state 56\n",
      "R2 score is 0.18513152569971203 at random state 57\n",
      "R2 score is 0.20280846058231983 at random state 58\n",
      "R2 score is 0.10430046941573135 at random state 59\n",
      "R2 score is 0.2074536764401851 at random state 60\n",
      "R2 score is 0.17520622802816266 at random state 61\n",
      "R2 score is 0.1564466638654789 at random state 62\n",
      "R2 score is 0.20414712529534063 at random state 63\n",
      "R2 score is 0.23847311050317144 at random state 64\n",
      "R2 score is 0.0997886042161863 at random state 65\n",
      "R2 score is 0.06813990535358405 at random state 66\n",
      "R2 score is 0.1763956404463396 at random state 67\n",
      "R2 score is 0.17111201035954104 at random state 68\n",
      "R2 score is 0.14107040091919565 at random state 69\n",
      "R2 score is 0.21687127807686069 at random state 70\n",
      "R2 score is 0.17916267800324348 at random state 71\n",
      "R2 score is 0.11422370163983753 at random state 72\n",
      "R2 score is 0.2739539042107747 at random state 73\n",
      "R2 score is 0.2659251636259907 at random state 74\n",
      "R2 score is 0.17005905111350827 at random state 75\n",
      "R2 score is 0.21880410671905692 at random state 76\n",
      "R2 score is 0.13997361536181352 at random state 77\n",
      "R2 score is 0.19688854674452982 at random state 78\n",
      "R2 score is 0.23108252356934367 at random state 79\n",
      "R2 score is 0.17379609091503 at random state 80\n",
      "R2 score is 0.11561005713085237 at random state 81\n",
      "R2 score is 0.21240311625567598 at random state 82\n",
      "R2 score is 0.18925342729265382 at random state 83\n",
      "R2 score is 0.12500786226258398 at random state 84\n",
      "R2 score is 0.15556341899083004 at random state 85\n",
      "R2 score is 0.2730124470682438 at random state 86\n",
      "R2 score is 0.12071033658090558 at random state 87\n",
      "R2 score is 0.17651096553240153 at random state 88\n",
      "R2 score is 0.18654146850791586 at random state 89\n",
      "R2 score is 0.12820487002612801 at random state 90\n",
      "R2 score is 0.1585216162633506 at random state 91\n",
      "R2 score is 0.16141083120584032 at random state 92\n",
      "R2 score is 0.18327362331887642 at random state 93\n",
      "R2 score is 0.15878625214679365 at random state 94\n",
      "R2 score is 0.1358026592515682 at random state 95\n",
      "R2 score is 0.1242421419639923 at random state 96\n",
      "R2 score is 0.16282766741489474 at random state 97\n",
      "R2 score is 0.19928677222800018 at random state 98\n",
      "R2 score is 0.17782409533664778 at random state 99\n",
      "R2 score is 0.17921223214555282 at random state 100\n",
      "\n",
      "\n",
      "At Random State 73 Max R2 Score is 0.2739539042107747\n"
     ]
    }
   ],
   "source": [
    "from sklearn.tree import DecisionTreeRegressor\n",
    "dt=DecisionTreeRegressor()\n",
    "r_state=max_r2(dt,x,y)"
   ]
  },
  {
   "cell_type": "code",
   "execution_count": 93,
   "metadata": {},
   "outputs": [],
   "source": [
    "from sklearn.model_selection import GridSearchCV\n",
    "from sklearn.neighbors import KNeighborsRegressor\n",
    "from sklearn import svm\n",
    "from sklearn.svm import SVR"
   ]
  },
  {
   "cell_type": "code",
   "execution_count": 94,
   "metadata": {},
   "outputs": [
    {
     "data": {
      "text/plain": [
       "{'n_neighbors': 20}"
      ]
     },
     "execution_count": 94,
     "metadata": {},
     "output_type": "execute_result"
    }
   ],
   "source": [
    "knr=KNeighborsRegressor()\n",
    "parameters={'n_neighbors':range(1,21)}\n",
    "c=GridSearchCV(knr,parameters,cv=5)\n",
    "c.fit(x,y)\n",
    "c.best_params_"
   ]
  },
  {
   "cell_type": "code",
   "execution_count": 95,
   "metadata": {},
   "outputs": [
    {
     "name": "stdout",
     "output_type": "stream",
     "text": [
      "R2 score is 0.1004409976821049 at random state 42\n",
      "R2 score is 0.09093947037710726 at random state 43\n",
      "R2 score is 0.09841708900081936 at random state 44\n",
      "R2 score is 0.12487461838591896 at random state 45\n",
      "R2 score is 0.0969628985071126 at random state 46\n",
      "R2 score is 0.054331515212352466 at random state 47\n",
      "R2 score is 0.06481752962857901 at random state 48\n",
      "R2 score is 0.04012450894226827 at random state 49\n",
      "R2 score is 0.02463503193681449 at random state 50\n",
      "R2 score is 0.15224431332688226 at random state 51\n",
      "R2 score is 0.05052500543432381 at random state 52\n",
      "R2 score is 0.051793300558928945 at random state 53\n",
      "R2 score is 0.12310866947712762 at random state 54\n",
      "R2 score is 0.1051461063865412 at random state 55\n",
      "R2 score is 0.20530119214459452 at random state 56\n",
      "R2 score is 0.05945103671012719 at random state 57\n",
      "R2 score is 0.08876984498081508 at random state 58\n",
      "R2 score is 0.04142563802833188 at random state 59\n",
      "R2 score is 0.07540204648007764 at random state 60\n",
      "R2 score is 0.052673252550899274 at random state 61\n",
      "R2 score is 0.05337630497441703 at random state 62\n",
      "R2 score is 0.0814549543382086 at random state 63\n",
      "R2 score is 0.11523137163712993 at random state 64\n",
      "R2 score is 0.08450003882382484 at random state 65\n",
      "R2 score is 0.0024252823709385307 at random state 66\n",
      "R2 score is 0.08033051296078664 at random state 67\n",
      "R2 score is 0.09494690661135774 at random state 68\n",
      "R2 score is 0.09070876376214287 at random state 69\n",
      "R2 score is 0.12134939858759175 at random state 70\n",
      "R2 score is 0.08565991248142368 at random state 71\n",
      "R2 score is 0.07693830769941523 at random state 72\n",
      "R2 score is 0.13640144538240107 at random state 73\n",
      "R2 score is 0.1149440478411804 at random state 74\n",
      "R2 score is 0.1303536796876973 at random state 75\n",
      "R2 score is 0.13559720409832476 at random state 76\n",
      "R2 score is 0.10446656695316114 at random state 77\n",
      "R2 score is 0.09432952965812624 at random state 78\n",
      "R2 score is 0.15983260789302756 at random state 79\n",
      "R2 score is 0.1356843723892096 at random state 80\n",
      "R2 score is -0.0022358036639000822 at random state 81\n",
      "R2 score is 0.045037280309952354 at random state 82\n",
      "R2 score is 0.09682025022953455 at random state 83\n",
      "R2 score is 0.10734151452911256 at random state 84\n",
      "R2 score is 0.11273039117528161 at random state 85\n",
      "R2 score is 0.08129898109994327 at random state 86\n",
      "R2 score is 0.08287797415108866 at random state 87\n",
      "R2 score is 0.0959251370473676 at random state 88\n",
      "R2 score is 0.11558474451746226 at random state 89\n",
      "R2 score is 0.03748776215299776 at random state 90\n",
      "R2 score is 0.06666940742173855 at random state 91\n",
      "R2 score is 0.016125281247725165 at random state 92\n",
      "R2 score is 0.1003275389185303 at random state 93\n",
      "R2 score is 0.05175669276173811 at random state 94\n",
      "R2 score is 0.060458696200673345 at random state 95\n",
      "R2 score is 0.09868383178401585 at random state 96\n",
      "R2 score is 0.15226203307879815 at random state 97\n",
      "R2 score is 0.08603930120526426 at random state 98\n",
      "R2 score is 0.09770827406980931 at random state 99\n",
      "R2 score is 0.07973247117692883 at random state 100\n",
      "\n",
      "\n",
      "At Random State 56 Max R2 Score is 0.20530119214459452\n"
     ]
    }
   ],
   "source": [
    "knr=KNeighborsRegressor(n_neighbors=20)\n",
    "r_state=max_r2(knr,x,y)"
   ]
  },
  {
   "cell_type": "code",
   "execution_count": 96,
   "metadata": {},
   "outputs": [
    {
     "data": {
      "text/plain": [
       "{'kernel': 'linear'}"
      ]
     },
     "execution_count": 96,
     "metadata": {},
     "output_type": "execute_result"
    }
   ],
   "source": [
    "import warnings\n",
    "warnings.filterwarnings('ignore')\n",
    "svr=SVR()\n",
    "parameters={'kernel':['poly','rbf','linear']}\n",
    "c=GridSearchCV(svr,parameters,cv=5)\n",
    "c.fit(x,y)\n",
    "c.best_params_"
   ]
  },
  {
   "cell_type": "code",
   "execution_count": 97,
   "metadata": {},
   "outputs": [
    {
     "name": "stdout",
     "output_type": "stream",
     "text": [
      "R2 score is -0.6784271633142431 at random state 42\n",
      "R2 score is -0.5785211296953576 at random state 43\n",
      "R2 score is -0.7141704498597705 at random state 44\n",
      "R2 score is -0.530315561768586 at random state 45\n",
      "R2 score is -0.5545812674971462 at random state 46\n",
      "R2 score is -0.5973686371177924 at random state 47\n",
      "R2 score is -0.6984566960098109 at random state 48\n",
      "R2 score is -0.600017270644444 at random state 49\n",
      "R2 score is -0.6877530198022921 at random state 50\n",
      "R2 score is -0.5579269671114093 at random state 51\n",
      "R2 score is -0.7070292781252616 at random state 52\n",
      "R2 score is -0.7022635254639491 at random state 53\n",
      "R2 score is -0.49740676080034985 at random state 54\n",
      "R2 score is -0.4691409656107488 at random state 55\n",
      "R2 score is -0.4194667748710681 at random state 56\n",
      "R2 score is -0.6600093511634408 at random state 57\n",
      "R2 score is -0.568646900411999 at random state 58\n",
      "R2 score is -0.6967074328972147 at random state 59\n",
      "R2 score is -0.5217596286669537 at random state 60\n",
      "R2 score is -0.5991511548174149 at random state 61\n",
      "R2 score is -0.5751442881519582 at random state 62\n",
      "R2 score is -0.5412958706507573 at random state 63\n",
      "R2 score is -0.49252838386124 at random state 64\n",
      "R2 score is -0.7319235129811732 at random state 65\n",
      "R2 score is -0.6601359553784061 at random state 66\n",
      "R2 score is -0.5277014092795949 at random state 67\n",
      "R2 score is -0.5456274686155766 at random state 68\n",
      "R2 score is -0.5762502066570494 at random state 69\n",
      "R2 score is -0.4942243824284964 at random state 70\n",
      "R2 score is -0.5271324014444942 at random state 71\n",
      "R2 score is -0.639335315284072 at random state 72\n",
      "R2 score is -0.5258392287119449 at random state 73\n",
      "R2 score is -0.43138095914459407 at random state 74\n",
      "R2 score is -0.5227043590381135 at random state 75\n",
      "R2 score is -0.44059995336559377 at random state 76\n",
      "R2 score is -0.5343508604428926 at random state 77\n",
      "R2 score is -0.5495284376847442 at random state 78\n",
      "R2 score is -0.5680983886642335 at random state 79\n",
      "R2 score is -0.5632735562184148 at random state 80\n",
      "R2 score is -0.5751400037716039 at random state 81\n",
      "R2 score is -0.7462401269912877 at random state 82\n",
      "R2 score is -0.6160630315463476 at random state 83\n",
      "R2 score is -0.6184099516086388 at random state 84\n",
      "R2 score is -0.5483039927588826 at random state 85\n",
      "R2 score is -0.4985632683246246 at random state 86\n",
      "R2 score is -0.6632265208971988 at random state 87\n",
      "R2 score is -0.6780222274121108 at random state 88\n",
      "R2 score is -0.5417600853055187 at random state 89\n",
      "R2 score is -0.7715974167014303 at random state 90\n",
      "R2 score is -0.6351399057779945 at random state 91\n",
      "R2 score is -0.6341486676972714 at random state 92\n",
      "R2 score is -0.5662038018106255 at random state 93\n",
      "R2 score is -0.6651948160045316 at random state 94\n",
      "R2 score is -0.6490258443295731 at random state 95\n",
      "R2 score is -0.5340788669653771 at random state 96\n",
      "R2 score is -0.5290455100652793 at random state 97\n",
      "R2 score is -0.542666103262178 at random state 98\n",
      "R2 score is -0.5769253731892843 at random state 99\n",
      "R2 score is -0.5344738637469175 at random state 100\n",
      "\n",
      "\n"
     ]
    },
    {
     "ename": "UnboundLocalError",
     "evalue": "local variable 'final_r_state' referenced before assignment",
     "output_type": "error",
     "traceback": [
      "\u001b[1;31m---------------------------------------------------------------------------\u001b[0m",
      "\u001b[1;31mUnboundLocalError\u001b[0m                         Traceback (most recent call last)",
      "\u001b[1;32m<ipython-input-97-7efbab599b2a>\u001b[0m in \u001b[0;36m<module>\u001b[1;34m\u001b[0m\n\u001b[0;32m      1\u001b[0m \u001b[0msvr\u001b[0m\u001b[1;33m=\u001b[0m\u001b[0mSVR\u001b[0m\u001b[1;33m(\u001b[0m\u001b[0mkernel\u001b[0m\u001b[1;33m=\u001b[0m\u001b[1;34m'linear'\u001b[0m\u001b[1;33m)\u001b[0m\u001b[1;33m\u001b[0m\u001b[1;33m\u001b[0m\u001b[0m\n\u001b[1;32m----> 2\u001b[1;33m \u001b[0mr_state\u001b[0m\u001b[1;33m=\u001b[0m\u001b[0mmax_r2\u001b[0m\u001b[1;33m(\u001b[0m\u001b[0msvr\u001b[0m\u001b[1;33m,\u001b[0m\u001b[0mx\u001b[0m\u001b[1;33m,\u001b[0m\u001b[0my\u001b[0m\u001b[1;33m)\u001b[0m\u001b[1;33m\u001b[0m\u001b[1;33m\u001b[0m\u001b[0m\n\u001b[0m",
      "\u001b[1;32m<ipython-input-90-a62afc917254>\u001b[0m in \u001b[0;36mmax_r2\u001b[1;34m(regr, x, y)\u001b[0m\n\u001b[0;32m     12\u001b[0m             \u001b[0mfinal_r_state\u001b[0m\u001b[1;33m=\u001b[0m\u001b[0mr_state\u001b[0m\u001b[1;33m\u001b[0m\u001b[1;33m\u001b[0m\u001b[0m\n\u001b[0;32m     13\u001b[0m     \u001b[0mprint\u001b[0m\u001b[1;33m(\u001b[0m\u001b[1;34m'\\n'\u001b[0m\u001b[1;33m)\u001b[0m\u001b[1;33m\u001b[0m\u001b[1;33m\u001b[0m\u001b[0m\n\u001b[1;32m---> 14\u001b[1;33m     \u001b[0mprint\u001b[0m\u001b[1;33m(\u001b[0m\u001b[1;34m'At Random State'\u001b[0m\u001b[1;33m,\u001b[0m\u001b[0mfinal_r_state\u001b[0m\u001b[1;33m,\u001b[0m\u001b[1;34m'Max R2 Score is'\u001b[0m\u001b[1;33m,\u001b[0m\u001b[0mmax_r_score\u001b[0m\u001b[1;33m,\u001b[0m\u001b[1;33m)\u001b[0m\u001b[1;33m\u001b[0m\u001b[1;33m\u001b[0m\u001b[0m\n\u001b[0m\u001b[0;32m     15\u001b[0m \u001b[1;33m\u001b[0m\u001b[0m\n\u001b[0;32m     16\u001b[0m     \u001b[1;32mreturn\u001b[0m \u001b[0mfinal_r_state\u001b[0m\u001b[1;33m\u001b[0m\u001b[1;33m\u001b[0m\u001b[0m\n",
      "\u001b[1;31mUnboundLocalError\u001b[0m: local variable 'final_r_state' referenced before assignment"
     ]
    }
   ],
   "source": [
    "svr=SVR(kernel='linear')\n",
    "r_state=max_r2(svr,x,y)"
   ]
  },
  {
   "cell_type": "code",
   "execution_count": 98,
   "metadata": {},
   "outputs": [],
   "source": [
    "from sklearn.linear_model import Lasso"
   ]
  },
  {
   "cell_type": "code",
   "execution_count": 99,
   "metadata": {},
   "outputs": [
    {
     "data": {
      "text/plain": [
       "{'alpha': 1}"
      ]
     },
     "execution_count": 99,
     "metadata": {},
     "output_type": "execute_result"
    }
   ],
   "source": [
    "l=Lasso()\n",
    "parameters={'alpha':[0.0001,0.001,0.01,1]}\n",
    "q=GridSearchCV(l,parameters,cv=5)\n",
    "q.fit(x,y)\n",
    "q.best_params_"
   ]
  },
  {
   "cell_type": "markdown",
   "metadata": {},
   "source": [
    "FOR REGULARIZATION OF DATA"
   ]
  },
  {
   "cell_type": "code",
   "execution_count": 100,
   "metadata": {},
   "outputs": [
    {
     "name": "stdout",
     "output_type": "stream",
     "text": [
      "R2 score is 0.05576774535434126 at random state 42\n",
      "R2 score is 0.08445655230937832 at random state 43\n",
      "R2 score is 0.021508847201492376 at random state 44\n",
      "R2 score is 0.08311100453924414 at random state 45\n",
      "R2 score is 0.09154924730891856 at random state 46\n",
      "R2 score is 0.07365777370204551 at random state 47\n",
      "R2 score is 0.03745188865888471 at random state 48\n",
      "R2 score is 0.07703568550426221 at random state 49\n",
      "R2 score is 0.037843562933313035 at random state 50\n",
      "R2 score is 0.12770276017426074 at random state 51\n",
      "R2 score is 0.036774955345894034 at random state 52\n",
      "R2 score is 0.046844965738018884 at random state 53\n",
      "R2 score is 0.1310352747562059 at random state 54\n",
      "R2 score is 0.1506401487720237 at random state 55\n",
      "R2 score is 0.1880638739124988 at random state 56\n",
      "R2 score is 0.04464421578654498 at random state 57\n",
      "R2 score is 0.09271239169708978 at random state 58\n",
      "R2 score is 0.023557168452514432 at random state 59\n",
      "R2 score is 0.09346963498924432 at random state 60\n",
      "R2 score is 0.07749889332119597 at random state 61\n",
      "R2 score is 0.08671088468711563 at random state 62\n",
      "R2 score is 0.10024249544090591 at random state 63\n",
      "R2 score is 0.10499646722396572 at random state 64\n",
      "R2 score is 0.05753235977473481 at random state 65\n",
      "R2 score is 0.03287313382029711 at random state 66\n",
      "R2 score is 0.10173762901490135 at random state 67\n",
      "R2 score is 0.09500129893163878 at random state 68\n",
      "R2 score is 0.07198673609919948 at random state 69\n",
      "R2 score is 0.10375807970721007 at random state 70\n",
      "R2 score is 0.10215015758693258 at random state 71\n",
      "R2 score is 0.03660998440086716 at random state 72\n",
      "R2 score is 0.12603758804909393 at random state 73\n",
      "R2 score is 0.13118589642757972 at random state 74\n",
      "R2 score is 0.09026278227926143 at random state 75\n",
      "R2 score is 0.1541548590509696 at random state 76\n",
      "R2 score is 0.11428745700895471 at random state 77\n",
      "R2 score is 0.07897961144834409 at random state 78\n",
      "R2 score is 0.10740520390062136 at random state 79\n",
      "R2 score is 0.11639544111225075 at random state 80\n",
      "R2 score is 0.05395878821469491 at random state 81\n",
      "R2 score is 0.04295500334504598 at random state 82\n",
      "R2 score is 0.0722368032124856 at random state 83\n",
      "R2 score is 0.05670021109619505 at random state 84\n",
      "R2 score is 0.09715878134015954 at random state 85\n",
      "R2 score is 0.09794175100937097 at random state 86\n",
      "R2 score is 0.047735597777348815 at random state 87\n",
      "R2 score is 0.024612433532141487 at random state 88\n",
      "R2 score is 0.13377368462047323 at random state 89\n",
      "R2 score is -0.015450997744512529 at random state 90\n",
      "R2 score is 0.09699005090950286 at random state 91\n",
      "R2 score is 0.08660981479163965 at random state 92\n",
      "R2 score is 0.06134158234278564 at random state 93\n",
      "R2 score is 0.0480863011923246 at random state 94\n",
      "R2 score is 0.05655875048395287 at random state 95\n",
      "R2 score is 0.11047061248143952 at random state 96\n",
      "R2 score is 0.11224938445279309 at random state 97\n",
      "R2 score is 0.09762406012394376 at random state 98\n",
      "R2 score is 0.07574867980912747 at random state 99\n",
      "R2 score is 0.09803229659742574 at random state 100\n",
      "\n",
      "\n",
      "At Random State 56 Max R2 Score is 0.1880638739124988\n"
     ]
    }
   ],
   "source": [
    "l=Lasso(alpha=1)\n",
    "r_state=max_r2(l,x,y)"
   ]
  },
  {
   "cell_type": "markdown",
   "metadata": {},
   "source": [
    "FOR BOSSTING OF DATA USING ADABOOST"
   ]
  },
  {
   "cell_type": "code",
   "execution_count": 101,
   "metadata": {},
   "outputs": [
    {
     "data": {
      "text/plain": [
       "{'base_estimator': Lasso(alpha=1), 'learning_rate': 0.001, 'n_estimators': 100}"
      ]
     },
     "execution_count": 101,
     "metadata": {},
     "output_type": "execute_result"
    }
   ],
   "source": [
    "from sklearn.ensemble import AdaBoostRegressor\n",
    "ada=AdaBoostRegressor()\n",
    "parameters={'n_estimators':[10,100,200],\n",
    "            'learning_rate':[0.001,0.01,0.1,1],'base_estimator':[lr,dt,l]}\n",
    "w=GridSearchCV(ada,parameters,cv=5)\n",
    "w.fit(x,y)\n",
    "w.best_params_"
   ]
  },
  {
   "cell_type": "code",
   "execution_count": 110,
   "metadata": {},
   "outputs": [
    {
     "name": "stdout",
     "output_type": "stream",
     "text": [
      "R2 score is 0.054650866609832205 at random state 42\n",
      "R2 score is 0.08462995091084047 at random state 43\n",
      "R2 score is 0.028322899698834503 at random state 44\n",
      "R2 score is 0.08501001268864694 at random state 45\n",
      "R2 score is 0.09442015574557083 at random state 46\n",
      "R2 score is 0.07430330329656931 at random state 47\n",
      "R2 score is 0.04184080300300519 at random state 48\n",
      "R2 score is 0.07916581031030367 at random state 49\n",
      "R2 score is 0.04060886297722566 at random state 50\n",
      "R2 score is 0.1287629301647425 at random state 51\n",
      "R2 score is 0.03865212700669274 at random state 52\n",
      "R2 score is 0.053703901825626565 at random state 53\n",
      "R2 score is 0.1331893617416965 at random state 54\n",
      "R2 score is 0.15132585883808458 at random state 55\n",
      "R2 score is 0.19030060676920812 at random state 56\n",
      "R2 score is 0.04508775310541646 at random state 57\n",
      "R2 score is 0.08999498440796971 at random state 58\n",
      "R2 score is 0.022750851038183417 at random state 59\n",
      "R2 score is 0.09533840033864649 at random state 60\n",
      "R2 score is 0.08160977816437776 at random state 61\n",
      "R2 score is 0.08503802467041666 at random state 62\n",
      "R2 score is 0.10392268027473694 at random state 63\n",
      "R2 score is 0.10910737221766009 at random state 64\n",
      "R2 score is 0.062105071694816716 at random state 65\n",
      "R2 score is 0.03469378157758063 at random state 66\n",
      "R2 score is 0.10481111470263094 at random state 67\n",
      "R2 score is 0.0954509081222098 at random state 68\n",
      "R2 score is 0.07397568402416832 at random state 69\n",
      "R2 score is 0.10333732449035893 at random state 70\n",
      "R2 score is 0.10614548772699539 at random state 71\n",
      "R2 score is 0.03694869258746558 at random state 72\n",
      "R2 score is 0.1287147984439837 at random state 73\n",
      "R2 score is 0.13226777314663551 at random state 74\n",
      "R2 score is 0.08874837385753098 at random state 75\n",
      "R2 score is 0.15270804746805278 at random state 76\n",
      "R2 score is 0.11740137833501396 at random state 77\n",
      "R2 score is 0.08414170716899383 at random state 78\n",
      "R2 score is 0.10449806447010035 at random state 79\n",
      "R2 score is 0.1177121530565256 at random state 80\n",
      "R2 score is 0.05724747148240439 at random state 81\n",
      "R2 score is 0.04597560925543187 at random state 82\n",
      "R2 score is 0.0742605142604521 at random state 83\n",
      "R2 score is 0.05542375465161009 at random state 84\n",
      "R2 score is 0.09839263120999608 at random state 85\n",
      "R2 score is 0.10104947693391031 at random state 86\n",
      "R2 score is 0.05259935464571219 at random state 87\n",
      "R2 score is 0.027376948283711178 at random state 88\n",
      "R2 score is 0.13120243800304032 at random state 89\n",
      "R2 score is -0.013245378265062113 at random state 90\n",
      "R2 score is 0.0986680345965879 at random state 91\n",
      "R2 score is 0.09284907501306494 at random state 92\n",
      "R2 score is 0.06579562680644824 at random state 93\n",
      "R2 score is 0.052198264568188324 at random state 94\n",
      "R2 score is 0.0571258291512291 at random state 95\n",
      "R2 score is 0.11358834794806272 at random state 96\n",
      "R2 score is 0.1160422818619199 at random state 97\n",
      "R2 score is 0.10269212565069863 at random state 98\n",
      "R2 score is 0.07647714240533243 at random state 99\n",
      "R2 score is 0.10089192635372446 at random state 100\n",
      "\n",
      "\n",
      "At Random State 56 Max R2 Score is 0.19030060676920812\n"
     ]
    }
   ],
   "source": [
    "ada=AdaBoostRegressor(n_estimators=100,learning_rate=0.001,base_estimator=Lasso(alpha=1))\n",
    "r_state=max_r2(ada,x,y)"
   ]
  },
  {
   "cell_type": "code",
   "execution_count": 114,
   "metadata": {},
   "outputs": [
    {
     "name": "stdout",
     "output_type": "stream",
     "text": [
      "Model LinearRegression()\n",
      "CV SCORE IS 0.5209481313306106\n",
      "\n",
      "\n",
      "Model DecisionTreeRegressor()\n",
      "CV SCORE IS 0.14711667527425132\n",
      "\n",
      "\n",
      "Model KNeighborsRegressor(n_neighbors=20)\n",
      "CV SCORE IS 0.5480283004380537\n",
      "\n",
      "\n",
      "Model SVR(kernel='linear')\n",
      "CV SCORE IS 0.4826352241620742\n",
      "\n",
      "\n",
      "Model Lasso(alpha=1)\n",
      "CV SCORE IS 0.520969266207288\n",
      "\n",
      "\n",
      "Model AdaBoostRegressor(base_estimator=Lasso(alpha=1), learning_rate=0.001,\n",
      "                  n_estimators=100)\n",
      "CV SCORE IS 0.520936809128496\n",
      "\n",
      "\n"
     ]
    }
   ],
   "source": [
    "model=[]\n",
    "cvscore=[]\n",
    "\n",
    "from sklearn.model_selection import cross_val_score\n",
    "\n",
    "model=[lr,dt,knr,svr,l,ada]\n",
    "\n",
    "for m in model:\n",
    "    print('Model',m)\n",
    "\n",
    "    \n",
    "    c=cross_val_score(m,x,y,cv=5,scoring='r2').mean()\n",
    "    print('CV SCORE IS',c)\n",
    "    print('\\n')\n",
    "    cvscore.append(c)"
   ]
  },
  {
   "cell_type": "code",
   "execution_count": 106,
   "metadata": {},
   "outputs": [],
   "source": [
    "#decisiontreeregressor is the best model\n",
    "#Finalizing dt model"
   ]
  },
  {
   "cell_type": "code",
   "execution_count": 115,
   "metadata": {},
   "outputs": [
    {
     "name": "stdout",
     "output_type": "stream",
     "text": [
      "MSE is 2103212.563557444\n",
      "MAE is 1025.3524061298076\n",
      "R2 Score is 0.2668994836298555\n",
      "CV Score is 0.137819418050611\n"
     ]
    }
   ],
   "source": [
    "x_train,x_test,y_train,y_test=train_test_split(x,y,random_state=73,test_size=.20)\n",
    "dt.fit(x_train,y_train)\n",
    "predt=dt.predict(x_test)\n",
    "\n",
    "MSE=mean_squared_error(predt,y_test)\n",
    "MAE=mean_absolute_error(predt,y_test)\n",
    "R2=r2_score(predt,y_test)\n",
    "CV=cross_val_score(dt,x,y,scoring='r2',cv=5).mean()\n",
    "\n",
    "print(\"MSE is\" ,MSE)\n",
    "print(\"MAE is\" ,MAE)\n",
    "print(\"R2 Score is\" ,R2)\n",
    "print(\"CV Score is\",CV)"
   ]
  },
  {
   "cell_type": "code",
   "execution_count": 116,
   "metadata": {},
   "outputs": [
    {
     "data": {
      "text/plain": [
       "['dtbigmart.obj']"
      ]
     },
     "execution_count": 116,
     "metadata": {},
     "output_type": "execute_result"
    }
   ],
   "source": [
    "import joblib\n",
    "joblib.dump(svr,'dtbigmart.obj')"
   ]
  },
  {
   "cell_type": "code",
   "execution_count": 117,
   "metadata": {},
   "outputs": [],
   "source": [
    "pred_test=dt.predict(test_new)\n",
    "pred_test=pd.DataFrame(pred_test)"
   ]
  },
  {
   "cell_type": "code",
   "execution_count": 119,
   "metadata": {},
   "outputs": [],
   "source": [
    "pred_test.to_csv(\"pred of bigmart.csv\")"
   ]
  },
  {
   "cell_type": "code",
   "execution_count": null,
   "metadata": {},
   "outputs": [],
   "source": []
  },
  {
   "cell_type": "code",
   "execution_count": null,
   "metadata": {},
   "outputs": [],
   "source": []
  }
 ],
 "metadata": {
  "kernelspec": {
   "display_name": "Python 3",
   "language": "python",
   "name": "python3"
  },
  "language_info": {
   "codemirror_mode": {
    "name": "ipython",
    "version": 3
   },
   "file_extension": ".py",
   "mimetype": "text/x-python",
   "name": "python",
   "nbconvert_exporter": "python",
   "pygments_lexer": "ipython3",
   "version": "3.8.3"
  }
 },
 "nbformat": 4,
 "nbformat_minor": 4
}
